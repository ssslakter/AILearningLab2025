{
 "cells": [
  {
   "cell_type": "code",
   "execution_count": null,
   "metadata": {},
   "outputs": [],
   "source": [
    "from preprocess import preprocess_data\n",
    "from transformers import AutoTokenizer\n",
    "from datasets import Dataset\n",
    "import pandas as pd, torch, numpy as np\n",
    "from tqdm.auto import tqdm, trange"
   ]
  },
  {
   "cell_type": "code",
   "execution_count": null,
   "metadata": {},
   "outputs": [],
   "source": [
    "import gc\n",
    "\n",
    "def cleanup():\n",
    "    gc.collect()\n",
    "    torch.cuda.empty_cache()"
   ]
  },
  {
   "cell_type": "markdown",
   "metadata": {},
   "source": [
    "## Process data"
   ]
  },
  {
   "cell_type": "code",
   "execution_count": null,
   "metadata": {},
   "outputs": [],
   "source": [
    "model_name = \"cointegrated/rubert-tiny-sentiment-balanced\"\n",
    "tokenizer = AutoTokenizer.from_pretrained(model_name)"
   ]
  },
  {
   "cell_type": "code",
   "execution_count": null,
   "metadata": {},
   "outputs": [],
   "source": [
    "df = pd.read_excel('./a_with_labels.xlsx')\n",
    "df = df[['Text', 'my-label']].rename(columns={'Text': 'text', 'my-label': 'label'})\n",
    "\n",
    "dataset = Dataset.from_pandas(df)"
   ]
  },
  {
   "cell_type": "code",
   "execution_count": null,
   "metadata": {},
   "outputs": [],
   "source": [
    "dataset = dataset.train_test_split(test_size=0.1)"
   ]
  },
  {
   "cell_type": "markdown",
   "metadata": {},
   "source": [
    "## Benchmark a model"
   ]
  },
  {
   "cell_type": "code",
   "execution_count": null,
   "metadata": {},
   "outputs": [
    {
     "name": "stderr",
     "output_type": "stream",
     "text": [
      "Device set to use cpu\n"
     ]
    }
   ],
   "source": [
    "import time\n",
    "from optimum.pipelines import pipeline\n",
    "model_id = \"cointegrated/rubert-tiny-sentiment-balanced\"\n",
    "classifier = pipeline(task=\"text-classification\", accelerator=\"ort\", model=model_id, device='cpu',truncation=True)"
   ]
  },
  {
   "cell_type": "code",
   "execution_count": null,
   "metadata": {},
   "outputs": [],
   "source": [
    "from collections import defaultdict\n",
    "\n",
    "def benchmark(pipe, dataset):\n",
    "    times, lengths = [], []\n",
    "    for el in dataset:\n",
    "        start = time.time()\n",
    "        pipe(el['text'])\n",
    "        lengths.append(len(pipe.tokenizer.tokenize(el['text'])))\n",
    "        end = time.time()\n",
    "        times.append(end - start)\n",
    "    return np.array(lengths), np.array(times)\n",
    "\n",
    "def group_for_plot(lengths, times):\n",
    "    length_time_map = defaultdict(list)\n",
    "    for length, time in zip(lengths, times): length_time_map[length].append(time)\n",
    "\n",
    "    # Calculate averages\n",
    "    unique_lengths = []\n",
    "    average_times = []\n",
    "    for length, time_list in length_time_map.items():\n",
    "        unique_lengths.append(length)\n",
    "        average_times.append(np.mean(time_list))\n",
    "\n",
    "    # Sort for plotting\n",
    "    sorted_indices = np.argsort(unique_lengths)\n",
    "    unique_lengths = np.array(unique_lengths)[sorted_indices]\n",
    "    average_times = np.array(average_times)[sorted_indices]\n",
    "    return unique_lengths, average_times"
   ]
  },
  {
   "cell_type": "code",
   "execution_count": null,
   "metadata": {},
   "outputs": [
    {
     "name": "stderr",
     "output_type": "stream",
     "text": [
      "Token indices sequence length is longer than the specified maximum sequence length for this model (824 > 512). Running this sequence through the model will result in indexing errors\n"
     ]
    },
    {
     "ename": "ValueError",
     "evalue": "Mime type rendering requires nbformat>=4.2.0 but it is not installed",
     "output_type": "error",
     "traceback": [
      "\u001b[1;31m---------------------------------------------------------------------------\u001b[0m",
      "\u001b[1;31mValueError\u001b[0m                                Traceback (most recent call last)",
      "File \u001b[1;32me:\\Python\\RL\\.conda\\Lib\\site-packages\\IPython\\core\\formatters.py:984\u001b[0m, in \u001b[0;36mIPythonDisplayFormatter.__call__\u001b[1;34m(self, obj)\u001b[0m\n\u001b[0;32m    982\u001b[0m method \u001b[38;5;241m=\u001b[39m get_real_method(obj, \u001b[38;5;28mself\u001b[39m\u001b[38;5;241m.\u001b[39mprint_method)\n\u001b[0;32m    983\u001b[0m \u001b[38;5;28;01mif\u001b[39;00m method \u001b[38;5;129;01mis\u001b[39;00m \u001b[38;5;129;01mnot\u001b[39;00m \u001b[38;5;28;01mNone\u001b[39;00m:\n\u001b[1;32m--> 984\u001b[0m     \u001b[43mmethod\u001b[49m\u001b[43m(\u001b[49m\u001b[43m)\u001b[49m\n\u001b[0;32m    985\u001b[0m     \u001b[38;5;28;01mreturn\u001b[39;00m \u001b[38;5;28;01mTrue\u001b[39;00m\n",
      "File \u001b[1;32me:\\Python\\RL\\.conda\\Lib\\site-packages\\plotly\\basedatatypes.py:833\u001b[0m, in \u001b[0;36mBaseFigure._ipython_display_\u001b[1;34m(self)\u001b[0m\n\u001b[0;32m    830\u001b[0m \u001b[38;5;28;01mimport\u001b[39;00m\u001b[38;5;250m \u001b[39m\u001b[38;5;21;01mplotly\u001b[39;00m\u001b[38;5;21;01m.\u001b[39;00m\u001b[38;5;21;01mio\u001b[39;00m\u001b[38;5;250m \u001b[39m\u001b[38;5;28;01mas\u001b[39;00m\u001b[38;5;250m \u001b[39m\u001b[38;5;21;01mpio\u001b[39;00m\n\u001b[0;32m    832\u001b[0m \u001b[38;5;28;01mif\u001b[39;00m pio\u001b[38;5;241m.\u001b[39mrenderers\u001b[38;5;241m.\u001b[39mrender_on_display \u001b[38;5;129;01mand\u001b[39;00m pio\u001b[38;5;241m.\u001b[39mrenderers\u001b[38;5;241m.\u001b[39mdefault:\n\u001b[1;32m--> 833\u001b[0m     \u001b[43mpio\u001b[49m\u001b[38;5;241;43m.\u001b[39;49m\u001b[43mshow\u001b[49m\u001b[43m(\u001b[49m\u001b[38;5;28;43mself\u001b[39;49m\u001b[43m)\u001b[49m\n\u001b[0;32m    834\u001b[0m \u001b[38;5;28;01melse\u001b[39;00m:\n\u001b[0;32m    835\u001b[0m     \u001b[38;5;28mprint\u001b[39m(\u001b[38;5;28mrepr\u001b[39m(\u001b[38;5;28mself\u001b[39m))\n",
      "File \u001b[1;32me:\\Python\\RL\\.conda\\Lib\\site-packages\\plotly\\io\\_renderers.py:425\u001b[0m, in \u001b[0;36mshow\u001b[1;34m(fig, renderer, validate, **kwargs)\u001b[0m\n\u001b[0;32m    420\u001b[0m     \u001b[38;5;28;01mraise\u001b[39;00m \u001b[38;5;167;01mValueError\u001b[39;00m(\n\u001b[0;32m    421\u001b[0m         \u001b[38;5;124m\"\u001b[39m\u001b[38;5;124mMime type rendering requires ipython but it is not installed\u001b[39m\u001b[38;5;124m\"\u001b[39m\n\u001b[0;32m    422\u001b[0m     )\n\u001b[0;32m    424\u001b[0m \u001b[38;5;28;01mif\u001b[39;00m \u001b[38;5;129;01mnot\u001b[39;00m nbformat \u001b[38;5;129;01mor\u001b[39;00m Version(nbformat\u001b[38;5;241m.\u001b[39m__version__) \u001b[38;5;241m<\u001b[39m Version(\u001b[38;5;124m\"\u001b[39m\u001b[38;5;124m4.2.0\u001b[39m\u001b[38;5;124m\"\u001b[39m):\n\u001b[1;32m--> 425\u001b[0m     \u001b[38;5;28;01mraise\u001b[39;00m \u001b[38;5;167;01mValueError\u001b[39;00m(\n\u001b[0;32m    426\u001b[0m         \u001b[38;5;124m\"\u001b[39m\u001b[38;5;124mMime type rendering requires nbformat>=4.2.0 but it is not installed\u001b[39m\u001b[38;5;124m\"\u001b[39m\n\u001b[0;32m    427\u001b[0m     )\n\u001b[0;32m    429\u001b[0m display_jupyter_version_warnings()\n\u001b[0;32m    431\u001b[0m ipython_display\u001b[38;5;241m.\u001b[39mdisplay(bundle, raw\u001b[38;5;241m=\u001b[39m\u001b[38;5;28;01mTrue\u001b[39;00m)\n",
      "\u001b[1;31mValueError\u001b[0m: Mime type rendering requires nbformat>=4.2.0 but it is not installed"
     ]
    },
    {
     "data": {
      "application/vnd.plotly.v1+json": {
       "config": {
        "plotlyServerURL": "https://plot.ly"
       },
       "data": [
        {
         "marker": {
          "color": "blue",
          "opacity": 0.7
         },
         "mode": "markers",
         "name": "Individual Runs",
         "type": "scatter",
         "x": {
          "bdata": "DQAMAAoAAgAdAAIAEwAFABQAFgAVABMAHwAgAAoACwACABQAHwAMAAYAFgAYAAYAEQBCACcAEQAVAAoAUwEdADEAFgAlABoABgADAAsABwAPAAQAEQAbAGEACwAZAAUAHgB8AAIAFAAUAAoADAAIABEABAArAAcATwAXACMADAAaAEgAKABBABIAFQA7AAIAEQALAA8ABgACABIAMQABACoAEAAMACQAMAAQABYAMwAHAAUADgAHAAgAHwAKAAQACAAHABkANQAWAA4ADAACAJ4ABQAOABEABAA1AAIAPQAQAAsAMwAXADwADgAaAEoAHgACAA4AEgAMAAsABAALAAwAHgERAB4ATAAGACQAAwAMABsAIwAxAAcACwA5ABsAGgAUABIACwAPAAkABAACAAoAGQAFAAkABgAKACYAPABIAAIAEQAaAAoAyQAzABgAEwADAAYAegAGABoAGAB4ACIAGQAGABQAFQAHADsACAAMAAIAFAAIABQADABXAAIACwBFACMABAA3AEIAFgADAEwADAA4AAwAIAAIACUAHgAIAAkADwAaABEAIwALABMAEQALAAsADwACAEIAFQAsAA0AAgASABYAFwAEAA0APwACAAwALAATACYABgAvAAIALAABAA4ACAAJAAgADQAKABAAJwANAAcAFgAPAFgAcQAVABwACwAWABQAFQAKAAkABAACACsAIgAcACwAEwBqAAgAOgAZACIACwAHAAkAHAAUAAwAKQANAAgAJgATAAsAKgAMAAoAJgAuACUAJwAYABAALgAGAB8ACQATAAYAOAAPAA0AFAAPAAkAEwEVAAkAOAADAAsADQASABUA0QEZABkAEwAQABIADgAuABcACgASAAIAKAARAA4AlAAVAAoABAAbAA0AIQAxAE8ABQAgABkAGQAqAAQANgAIAB4AMAANAAwAAgAZAA0AWQADAAwALwAwAA8AIgBEABEADgANAA4AZAAeABIABwALACYANQAPAAcACwA4AwYACABOABoAAgCOABAAEAAGABoAHgAMAA8ACwAKAAwACwArABYACgAGABsAAgAPAC8ACQAHAA4ACwBFAAsABQA1ACwAEwAcADQAXAAFAAUADABDACEAngAVABcAFAALAA4ABAAuAFsAMQA2AAYAHAA5ABoAFQAOABMABgARABEAEQA/AAUAcgA6ACUAQQACAAIAHwAJABEACgA=",
          "dtype": "i2"
         },
         "y": {
          "bdata": "AAAAAEB2dD8AAAAAgJJoPwAAAAAAZHA/AAAAAABicD8AAAAAgItoPwAAAACAZGA/AAAAAIBjYD8AAAAAgJZoPwAAAACAjmg/AAAAAACQaD8AAAAAgGtgPwAAAAAAi2g/AAAAAICZaD8AAAAAEGmRPwAAAAAAX2A/AAAAAACSaD8AAAAAgJpoPwAAAAAAXGA/AAAAAIBWYD8AAAAAAGNgPwAAAAAAZWA/AAAAAICcdj8AAAAAAF9gPwAAAAAAZFA/AAAAAAChaD8AAAAAwIOGPwAAAAAAjo8/AAAAAABwYD8AAAAAgGCAPwAAAAAAXGA/AAAAABB0kz8AAAAA4G+CPwAAAADAe3Q/AAAAAICKaD8AAAAAwGNwPwAAAACAlmg/AAAAAICQaD8AAAAAgGtgPwAAAAAAVWA/AAAAAIBrYD8AAAAAAFxgPwAAAAAAm2g/AAAAAMB8dD8AAAAAIJOIPwAAAACAlXg/AAAAAMB5dD8AAAAAgJhoPwAAAACAYnA/AAAAAMBicD8AAAAAYPGiPwAAAACAYmA/AAAAAACGhj8AAAAAgGhgPwAAAAAAXWA/AAAAAICZaD8AAAAAgF1gPwAAAAAAZWA/AAAAAABpUD8AAAAAAGJwPwAAAAAAXWA/AAAAAICTeD8AAAAAAPKGPwAAAACAkmg/AAAAAAChaD8AAAAAgIxoPwAAAADge4Q/AAAAAAB5dD8AAAAAwJJ4PwAAAACAkmg/AAAAAIBfcD8AAAAAwKl8PwAAAACAYWA/AAAAAACOaD8AAAAAAJFoPwAAAAAAkmg/AAAAAABhYD8AAAAAAGNgPwAAAAAAamA/AAAAAACReD8AAAAAAGhQPwAAAAAAkmg/AAAAAABlYD8AAAAAgJhoPwAAAACAimg/AAAAAMCVeD8AAAAAAF9gPwAAAAAAmGg/AAAAAICRaD8AAAAAAGdgPwAAAACAXmA/AAAAAIBhYD8AAAAAgJpoPwAAAACAYmA/AAAAAACLaD8AAAAAAGtgPwAAAAAAimg/AAAAAICaaD8AAAAAAGJgPwAAAACAk2g/AAAAAICXaD8AAAAAgJdoPwAAAACAjWg/AAAAAABhYD8AAAAAAGtQPwAAAAAAuI4/AAAAAICpfD8AAAAAAJdoPwAAAACAYGA/AAAAAABjYD8AAAAAwHp0PwAAAAAAX2A/AAAAAIBjcD8AAAAAgGNgPwAAAABAYnA/AAAAAIBkcD8AAAAAQHl0PwAAAAAAk3g/AAAAAICWaD8AAAAAAF5gPwAAAABAenQ/AAAAAABgYD8AAAAAAF1gPwAAAAAAYmA/AAAAAIBeYD8AAAAAgJdoPwAAAAAAYmA/AAAAAIBfYD8AAAAAAGdgPwAAAAAAk2g/AAAAAHBokT8AAAAAgF9gPwAAAAAAZmA/AAAAAABhcD8AAAAAAJBoPwAAAAAAk2g/AAAAAIBjYD8AAAAAQGJwPwAAAADAYnA/AAAAAICQaD8AAAAAAGJwPwAAAAAAlGg/AAAAAABkcD8AAAAAwGFwPwAAAAAAlGg/AAAAAABpcD8AAAAAAJhoPwAAAACAmZk/AAAAAICRaD8AAAAAgJRoPwAAAACAlWg/AAAAAACQaD8AAAAAAGtgPwAAAAAAaWA/AAAAAABiYD8AAAAAAGtQPwAAAAAAW2A/AAAAAIBsYD8AAAAAgGRgPwAAAACAj2g/AAAAAMBugj8AAAAAgHp0PwAAAACAYGA/AAAAAIB8dD8AAAAAgJJoPwAAAAAAYGA/AAAAAACIhj8AAAAAgJVoPwAAAAAAjmg/AAAAAICOaD8AAAAAgGJgPwAAAAAAaFA/AAAAAMBtgj8AAAAAAFxQPwAAAACAlGg/AAAAAIBiYD8AAAAAeH+hPwAAAAAAjmg/AAAAAACVaD8AAAAAAJZoPwAAAACAjGg/AAAAAABgYD8AAAAAAGVgPwAAAAAge4Q/AAAAAABlYD8AAAAAAGNgPwAAAACAbII/AAAAAICbaD8AAAAAAGNwPwAAAAAAj2g/AAAAAACVaD8AAAAA0PGiPwAAAACAYWA/AAAAAABgYD8AAAAAwHl0PwAAAADAfHQ/AAAAAIBhYD8AAAAAAHp0PwAAAAAArnw/AAAAAIBiYD8AAAAAAGVgPwAAAAAAqnw/AAAAAIBiYD8AAAAAgJV4PwAAAACAZWA/AAAAAMBfcD8AAAAAAJFoPwAAAADw8aE/AAAAAAB7dD8AAAAAAKZoPwAAAAAAXmA/AAAAAABgYD8AAAAAgJFoPwAAAADAmHg/AAAAAACMaD8AAAAAgF1gPwAAAAAAaWA/AAAAAIBhYD8AAAAAgGpgPwAAAADgaoI/AAAAAABmcD8AAAAAAF5gPwAAAABAenQ/AAAAAABgYD8AAAAA4HuEPwAAAACAlmg/AAAAAABqYD8AAAAAAIloPwAAAACAYmA/AAAAAICOaD8AAAAAgGJgPwAAAACAlHg/AAAAAEBhcD8AAAAAAGVgPwAAAAAAYGA/AAAAACBwgj8AAAAAgFxgPwAAAAAAmXg/AAAAAABdYD8AAAAAAI1oPwAAAAAAlWg/AAAAACBQjD8AAAAAAGBgPwAAAABAoYo/AAAAAEBicD8AAAAAAGNgPwAAAACAXGA/AAAAAABhYD8AAAAAADtcPwAAAAAAVmA/AAAAAICAcj8AAAAAAIB0PwAAAACAWmA/AAAAAIBncD8AAAAAAI5oPwAAAAAArHw/AAAAAKBtgj8AAAAAAGRgPwAAAACAk2g/AAAAAMB5dD8AAAAAgGFgPwAAAAAAlWg/AAAAAIBhYD8AAAAAAH10PwAAAACAYWA/AAAAAIBeYD8AAAAAAF1QPwAAAABAY3A/AAAAAABncD8AAAAAAI9oPwAAAADAdnQ/AAAAAMBocD8AAAAAwCZzPwAAAAAAY1A/AAAAAABjcD8AAAAAAJ1oPwAAAACAXnA/AAAAAIBjYD8AAAAAgF1gPwAAAACAZGA/AAAAAACaaD8AAAAAQF5wPwAAAAAAYVA/AAAAAACaaD8AAAAAgJF4PwAAAACAZGA/AAAAAACQaD8AAAAAAGdgPwAAAABAYnA/AAAAAEBhcD8AAAAAgGBwPwAAAACAY2A/AAAAAIBjcD8AAAAAAJBoPwAAAACAk2g/AAAAAIB/dD8AAAAAgJBoPwAAAAAAlWg/AAAAAIB3dD8AAAAAAJloPwAAAABAZHA/AAAAAEB3dD8AAAAAgHp0PwAAAACAXmA/AAAAADhvoj8AAAAAAJhoPwAAAABAXnA/AAAAAICRaD8AAAAAgGhgPwAAAACAkmg/AAAAAPBdmz8AAAAAgGtgPwAAAAAAWWA/AAAAAMB6dD8AAAAAAF5gPwAAAACAZmA/AAAAAABjUD8AAAAAgGVgPwAAAAAAlGg/AAAAACzCtT8AAAAAAGRgPwAAAAAAYmA/AAAAAIBiYD8AAAAAAG5wPwAAAAAAXGA/AAAAAABhUD8AAAAAgJNoPwAAAAAAZFA/AAAAAABjUD8AAAAAAJ5oPwAAAAAAb1A/AAAAAABYYD8AAAAAAJdoPwAAAABAgXQ/AAAAAACReD8AAAAAAGJgPwAAAAAAZmA/AAAAAABkUD8AAAAAwI5+PwAAAABAaHA/AAAAAACHaD8AAAAAgJRoPwAAAABAYXA/AAAAAIByYD8AAAAAgGJgPwAAAACAX2A/AAAAAABhYD8AAAAAgJNoPwAAAACAnGg/AAAAAMBfcD8AAAAAAFtQPwAAAAAAYmA/AAAAAACYaD8AAAAAgJF4PwAAAACAYWA/AAAAAABiUD8AAAAAgGdgPwAAAAAAXWA/AAAAAEBjgD8AAAAAAFxQPwAAAAAAY2A/AAAAAACUaD8AAAAAgH10PwAAAAAAjGg/AAAAAICTaD8AAAAA4IiGPwAAAAAAXGA/AAAAAABtUD8AAAAAgGRgPwAAAAAAYmA/AAAAAIB6dD8AAAAAAGNgPwAAAAAAY3A/AAAAAADpVz8AAAAAAF5QPwAAAAAAY2A/AAAAAIBwgj8AAAAAgFpgPwAAAACAYWA/AAAAAABpUD8AAAAAoOuxPwAAAAAAmGg/AAAAAICUaD8AAAAAcJmpPwAAAADAeXQ/AAAAAABnYD8AAAAAcHSTPwAAAAAAkmg/AAAAAICQaD8AAAAAgJVoPwAAAACAeXQ/AAAAAABhcD8AAAAAAGxgPwAAAACAZGA/AAAAAICZaD8AAAAAgGVgPwAAAAAAY2A/AAAAAABfYD8AAAAAQHx0PwAAAAAAk2g/AAAAAACRaD8AAAAAAJNoPwAAAACgYYA/AAAAAABjYD8AAAAAgGJwPwAAAADAYIA/AAAAAGBggD8AAAAAgFtgPwAAAACAZ2A/AAAAAACPaD8AAAAAgJR4PwAAAACg0Js/AAAAAND1kj8AAAAAAJV4PwAAAAAAX3A/AAAAAIBkYD8AAAAAgGBgPwAAAABAfnQ/AAAAAAB7dD8AAAAAAF9QPwAAAAAAY2A/AAAAAICWaD8AAAAAAGNwPwAAAAAAXmA/AAAAAMCfij8AAAAAAGRgPwAAAACAnmg/AAAAAICXaD8AAAAAAFlgPwAAAAAAY1A/AAAAAAByUD8AAAAAgIxoPwAAAACArHw/AAAAACBwgj8AAAAAAJFoPwAAAAAAZFA/AAAAAHCTmD8AAAAAQJV4PwAAAADAZHA/AAAAAIBgYD8AAAAAAF1gPwAAAAAAZVA/AAAAAABhYD8AAAAAAGNQPwAAAACAYWA/AAAAAEB9dD8AAAAAgI9oPwAAAAAAX1A/AAAAAECBdD8AAAAAYB+PPwAAAADAX3A/AAAAAICQaD8AAAAAgGFgPwAAAAAAaVA/AAAAAMB5dD8AAAAAAGNQPwAAAAAAYmA/AAAAAIBicD8=",
          "dtype": "f8"
         }
        },
        {
         "line": {
          "color": "red",
          "width": 2
         },
         "mode": "lines",
         "name": "Average Time",
         "type": "scatter",
         "x": {
          "bdata": "AQACAAMABAAFAAYABwAIAAkACgALAAwADQAOAA8AEAARABIAEwAUABUAFgAXABgAGQAaABsAHAAdAB4AHwAgACEAIgAjACQAJQAmACcAKAApACoAKwAsAC4ALwAwADEAMwA0ADUANgA3ADgAOQA6ADsAPAA9AD8AQQBCAEMARABFAEgASgBMAE4ATwBXAFgAWQBbAFwAYQBkAGoAcQByAHgAegB8AI4AlACeAMkAEwEeAVMB0QE4Aw==",
          "dtype": "i2"
         },
         "y": {
          "bdata": "AAAAAACUWD+rqqqqem9iPwAAAACAC14/VVVVVdURYT8AAAAA4AFxPwAAAAAA1WE/VVVVVTVhYT8AAAAAgCtkP3TRRRfd0Wc/AAAAAGjUYz9VVVVVBT1wP6uqqqqqrmQ/q6qqqupmbz/ZiZ3YiTZpP6uqqqpqhmY/AAAAACCCZT8AAAAAwBJoP6uqqqpq73Q/L7roogvbZD9VVVVVtVltP1VVVVVVh2Y/ZmZmZiYBaT/NzMzMjAJzPwAAAAAAeGQ/AAAAAACrYz+amZmZWaxsP5qZmZmZOnw/zczMzAysfD8AAAAAwJJ4PwAAAACAk2g/zczMzMzXaz9VVVVVFWd/PwAAAACAcmQ/AAAAACCrbD8AAAAAIKpsPwAAAADAjmg/AAAAAJiThz+amZmZGX9tP6uqqqqqBIE/AAAAAAClbD8AAAAAAJpoP1VVVVVVTWs/AAAAAIDAcT9mZmZmZiGBPwAAAADAp2w/VVVVVVUbcz8AAAAAwB9zP2ZmZmamHnY/AAAAAABQaz8AAAAAQH50PwAAAAAgj3c/AAAAAECobD8AAAAAAHp0PwAAAACAC5A/AAAAAIB7dD8AAAAAcKiDPwAAAAAAaIE/AAAAAEC4fj8AAAAAgGNwPwAAAAAAqWw/AAAAAIBtcj8AAAAAQGV/PwAAAAAAY3A/AAAAAOCIhj8AAAAAIId2PwAAAAAguX4/AAAAAEB6dD8AAAAAgIV2PwAAAABwmak/AAAAAGB6dD8AAAAA0PGiPwAAAAAArHw/AAAAAEBjgD8AAAAAgKx8PwAAAAAAe3Q/AAAAAICVeD8AAAAAgHp0PwAAAADAJnM/AAAAAKBtgj8AAAAAQIF0PwAAAAB4f6E/AAAAAMBtgj8AAAAAYPGiPwAAAABwdJM/AAAAAACReD8AAAAA4KuMPwAAAAAAiIY/AAAAAPBdmz8AAAAAcGiRPwAAAAAQdJM/AAAAACzCtT8AAAAAoOuxPw==",
          "dtype": "f8"
         }
        }
       ],
       "layout": {
        "legend": {
         "orientation": "h",
         "x": 0.5,
         "xanchor": "center"
        },
        "template": {
         "data": {
          "bar": [
           {
            "error_x": {
             "color": "#2a3f5f"
            },
            "error_y": {
             "color": "#2a3f5f"
            },
            "marker": {
             "line": {
              "color": "#E5ECF6",
              "width": 0.5
             },
             "pattern": {
              "fillmode": "overlay",
              "size": 10,
              "solidity": 0.2
             }
            },
            "type": "bar"
           }
          ],
          "barpolar": [
           {
            "marker": {
             "line": {
              "color": "#E5ECF6",
              "width": 0.5
             },
             "pattern": {
              "fillmode": "overlay",
              "size": 10,
              "solidity": 0.2
             }
            },
            "type": "barpolar"
           }
          ],
          "carpet": [
           {
            "aaxis": {
             "endlinecolor": "#2a3f5f",
             "gridcolor": "white",
             "linecolor": "white",
             "minorgridcolor": "white",
             "startlinecolor": "#2a3f5f"
            },
            "baxis": {
             "endlinecolor": "#2a3f5f",
             "gridcolor": "white",
             "linecolor": "white",
             "minorgridcolor": "white",
             "startlinecolor": "#2a3f5f"
            },
            "type": "carpet"
           }
          ],
          "choropleth": [
           {
            "colorbar": {
             "outlinewidth": 0,
             "ticks": ""
            },
            "type": "choropleth"
           }
          ],
          "contour": [
           {
            "colorbar": {
             "outlinewidth": 0,
             "ticks": ""
            },
            "colorscale": [
             [
              0,
              "#0d0887"
             ],
             [
              0.1111111111111111,
              "#46039f"
             ],
             [
              0.2222222222222222,
              "#7201a8"
             ],
             [
              0.3333333333333333,
              "#9c179e"
             ],
             [
              0.4444444444444444,
              "#bd3786"
             ],
             [
              0.5555555555555556,
              "#d8576b"
             ],
             [
              0.6666666666666666,
              "#ed7953"
             ],
             [
              0.7777777777777778,
              "#fb9f3a"
             ],
             [
              0.8888888888888888,
              "#fdca26"
             ],
             [
              1,
              "#f0f921"
             ]
            ],
            "type": "contour"
           }
          ],
          "contourcarpet": [
           {
            "colorbar": {
             "outlinewidth": 0,
             "ticks": ""
            },
            "type": "contourcarpet"
           }
          ],
          "heatmap": [
           {
            "colorbar": {
             "outlinewidth": 0,
             "ticks": ""
            },
            "colorscale": [
             [
              0,
              "#0d0887"
             ],
             [
              0.1111111111111111,
              "#46039f"
             ],
             [
              0.2222222222222222,
              "#7201a8"
             ],
             [
              0.3333333333333333,
              "#9c179e"
             ],
             [
              0.4444444444444444,
              "#bd3786"
             ],
             [
              0.5555555555555556,
              "#d8576b"
             ],
             [
              0.6666666666666666,
              "#ed7953"
             ],
             [
              0.7777777777777778,
              "#fb9f3a"
             ],
             [
              0.8888888888888888,
              "#fdca26"
             ],
             [
              1,
              "#f0f921"
             ]
            ],
            "type": "heatmap"
           }
          ],
          "histogram": [
           {
            "marker": {
             "pattern": {
              "fillmode": "overlay",
              "size": 10,
              "solidity": 0.2
             }
            },
            "type": "histogram"
           }
          ],
          "histogram2d": [
           {
            "colorbar": {
             "outlinewidth": 0,
             "ticks": ""
            },
            "colorscale": [
             [
              0,
              "#0d0887"
             ],
             [
              0.1111111111111111,
              "#46039f"
             ],
             [
              0.2222222222222222,
              "#7201a8"
             ],
             [
              0.3333333333333333,
              "#9c179e"
             ],
             [
              0.4444444444444444,
              "#bd3786"
             ],
             [
              0.5555555555555556,
              "#d8576b"
             ],
             [
              0.6666666666666666,
              "#ed7953"
             ],
             [
              0.7777777777777778,
              "#fb9f3a"
             ],
             [
              0.8888888888888888,
              "#fdca26"
             ],
             [
              1,
              "#f0f921"
             ]
            ],
            "type": "histogram2d"
           }
          ],
          "histogram2dcontour": [
           {
            "colorbar": {
             "outlinewidth": 0,
             "ticks": ""
            },
            "colorscale": [
             [
              0,
              "#0d0887"
             ],
             [
              0.1111111111111111,
              "#46039f"
             ],
             [
              0.2222222222222222,
              "#7201a8"
             ],
             [
              0.3333333333333333,
              "#9c179e"
             ],
             [
              0.4444444444444444,
              "#bd3786"
             ],
             [
              0.5555555555555556,
              "#d8576b"
             ],
             [
              0.6666666666666666,
              "#ed7953"
             ],
             [
              0.7777777777777778,
              "#fb9f3a"
             ],
             [
              0.8888888888888888,
              "#fdca26"
             ],
             [
              1,
              "#f0f921"
             ]
            ],
            "type": "histogram2dcontour"
           }
          ],
          "mesh3d": [
           {
            "colorbar": {
             "outlinewidth": 0,
             "ticks": ""
            },
            "type": "mesh3d"
           }
          ],
          "parcoords": [
           {
            "line": {
             "colorbar": {
              "outlinewidth": 0,
              "ticks": ""
             }
            },
            "type": "parcoords"
           }
          ],
          "pie": [
           {
            "automargin": true,
            "type": "pie"
           }
          ],
          "scatter": [
           {
            "fillpattern": {
             "fillmode": "overlay",
             "size": 10,
             "solidity": 0.2
            },
            "type": "scatter"
           }
          ],
          "scatter3d": [
           {
            "line": {
             "colorbar": {
              "outlinewidth": 0,
              "ticks": ""
             }
            },
            "marker": {
             "colorbar": {
              "outlinewidth": 0,
              "ticks": ""
             }
            },
            "type": "scatter3d"
           }
          ],
          "scattercarpet": [
           {
            "marker": {
             "colorbar": {
              "outlinewidth": 0,
              "ticks": ""
             }
            },
            "type": "scattercarpet"
           }
          ],
          "scattergeo": [
           {
            "marker": {
             "colorbar": {
              "outlinewidth": 0,
              "ticks": ""
             }
            },
            "type": "scattergeo"
           }
          ],
          "scattergl": [
           {
            "marker": {
             "colorbar": {
              "outlinewidth": 0,
              "ticks": ""
             }
            },
            "type": "scattergl"
           }
          ],
          "scattermap": [
           {
            "marker": {
             "colorbar": {
              "outlinewidth": 0,
              "ticks": ""
             }
            },
            "type": "scattermap"
           }
          ],
          "scattermapbox": [
           {
            "marker": {
             "colorbar": {
              "outlinewidth": 0,
              "ticks": ""
             }
            },
            "type": "scattermapbox"
           }
          ],
          "scatterpolar": [
           {
            "marker": {
             "colorbar": {
              "outlinewidth": 0,
              "ticks": ""
             }
            },
            "type": "scatterpolar"
           }
          ],
          "scatterpolargl": [
           {
            "marker": {
             "colorbar": {
              "outlinewidth": 0,
              "ticks": ""
             }
            },
            "type": "scatterpolargl"
           }
          ],
          "scatterternary": [
           {
            "marker": {
             "colorbar": {
              "outlinewidth": 0,
              "ticks": ""
             }
            },
            "type": "scatterternary"
           }
          ],
          "surface": [
           {
            "colorbar": {
             "outlinewidth": 0,
             "ticks": ""
            },
            "colorscale": [
             [
              0,
              "#0d0887"
             ],
             [
              0.1111111111111111,
              "#46039f"
             ],
             [
              0.2222222222222222,
              "#7201a8"
             ],
             [
              0.3333333333333333,
              "#9c179e"
             ],
             [
              0.4444444444444444,
              "#bd3786"
             ],
             [
              0.5555555555555556,
              "#d8576b"
             ],
             [
              0.6666666666666666,
              "#ed7953"
             ],
             [
              0.7777777777777778,
              "#fb9f3a"
             ],
             [
              0.8888888888888888,
              "#fdca26"
             ],
             [
              1,
              "#f0f921"
             ]
            ],
            "type": "surface"
           }
          ],
          "table": [
           {
            "cells": {
             "fill": {
              "color": "#EBF0F8"
             },
             "line": {
              "color": "white"
             }
            },
            "header": {
             "fill": {
              "color": "#C8D4E3"
             },
             "line": {
              "color": "white"
             }
            },
            "type": "table"
           }
          ]
         },
         "layout": {
          "annotationdefaults": {
           "arrowcolor": "#2a3f5f",
           "arrowhead": 0,
           "arrowwidth": 1
          },
          "autotypenumbers": "strict",
          "coloraxis": {
           "colorbar": {
            "outlinewidth": 0,
            "ticks": ""
           }
          },
          "colorscale": {
           "diverging": [
            [
             0,
             "#8e0152"
            ],
            [
             0.1,
             "#c51b7d"
            ],
            [
             0.2,
             "#de77ae"
            ],
            [
             0.3,
             "#f1b6da"
            ],
            [
             0.4,
             "#fde0ef"
            ],
            [
             0.5,
             "#f7f7f7"
            ],
            [
             0.6,
             "#e6f5d0"
            ],
            [
             0.7,
             "#b8e186"
            ],
            [
             0.8,
             "#7fbc41"
            ],
            [
             0.9,
             "#4d9221"
            ],
            [
             1,
             "#276419"
            ]
           ],
           "sequential": [
            [
             0,
             "#0d0887"
            ],
            [
             0.1111111111111111,
             "#46039f"
            ],
            [
             0.2222222222222222,
             "#7201a8"
            ],
            [
             0.3333333333333333,
             "#9c179e"
            ],
            [
             0.4444444444444444,
             "#bd3786"
            ],
            [
             0.5555555555555556,
             "#d8576b"
            ],
            [
             0.6666666666666666,
             "#ed7953"
            ],
            [
             0.7777777777777778,
             "#fb9f3a"
            ],
            [
             0.8888888888888888,
             "#fdca26"
            ],
            [
             1,
             "#f0f921"
            ]
           ],
           "sequentialminus": [
            [
             0,
             "#0d0887"
            ],
            [
             0.1111111111111111,
             "#46039f"
            ],
            [
             0.2222222222222222,
             "#7201a8"
            ],
            [
             0.3333333333333333,
             "#9c179e"
            ],
            [
             0.4444444444444444,
             "#bd3786"
            ],
            [
             0.5555555555555556,
             "#d8576b"
            ],
            [
             0.6666666666666666,
             "#ed7953"
            ],
            [
             0.7777777777777778,
             "#fb9f3a"
            ],
            [
             0.8888888888888888,
             "#fdca26"
            ],
            [
             1,
             "#f0f921"
            ]
           ]
          },
          "colorway": [
           "#636efa",
           "#EF553B",
           "#00cc96",
           "#ab63fa",
           "#FFA15A",
           "#19d3f3",
           "#FF6692",
           "#B6E880",
           "#FF97FF",
           "#FECB52"
          ],
          "font": {
           "color": "#2a3f5f"
          },
          "geo": {
           "bgcolor": "white",
           "lakecolor": "white",
           "landcolor": "#E5ECF6",
           "showlakes": true,
           "showland": true,
           "subunitcolor": "white"
          },
          "hoverlabel": {
           "align": "left"
          },
          "hovermode": "closest",
          "mapbox": {
           "style": "light"
          },
          "paper_bgcolor": "white",
          "plot_bgcolor": "#E5ECF6",
          "polar": {
           "angularaxis": {
            "gridcolor": "white",
            "linecolor": "white",
            "ticks": ""
           },
           "bgcolor": "#E5ECF6",
           "radialaxis": {
            "gridcolor": "white",
            "linecolor": "white",
            "ticks": ""
           }
          },
          "scene": {
           "xaxis": {
            "backgroundcolor": "#E5ECF6",
            "gridcolor": "white",
            "gridwidth": 2,
            "linecolor": "white",
            "showbackground": true,
            "ticks": "",
            "zerolinecolor": "white"
           },
           "yaxis": {
            "backgroundcolor": "#E5ECF6",
            "gridcolor": "white",
            "gridwidth": 2,
            "linecolor": "white",
            "showbackground": true,
            "ticks": "",
            "zerolinecolor": "white"
           },
           "zaxis": {
            "backgroundcolor": "#E5ECF6",
            "gridcolor": "white",
            "gridwidth": 2,
            "linecolor": "white",
            "showbackground": true,
            "ticks": "",
            "zerolinecolor": "white"
           }
          },
          "shapedefaults": {
           "line": {
            "color": "#2a3f5f"
           }
          },
          "ternary": {
           "aaxis": {
            "gridcolor": "white",
            "linecolor": "white",
            "ticks": ""
           },
           "baxis": {
            "gridcolor": "white",
            "linecolor": "white",
            "ticks": ""
           },
           "bgcolor": "#E5ECF6",
           "caxis": {
            "gridcolor": "white",
            "linecolor": "white",
            "ticks": ""
           }
          },
          "title": {
           "x": 0.05
          },
          "xaxis": {
           "automargin": true,
           "gridcolor": "white",
           "linecolor": "white",
           "ticks": "",
           "title": {
            "standoff": 15
           },
           "zerolinecolor": "white",
           "zerolinewidth": 2
          },
          "yaxis": {
           "automargin": true,
           "gridcolor": "white",
           "linecolor": "white",
           "ticks": "",
           "title": {
            "standoff": 15
           },
           "zerolinecolor": "white",
           "zerolinewidth": 2
          }
         }
        },
        "title": {
         "text": "Run Time vs Sequence Length"
        },
        "xaxis": {
         "title": {
          "text": "Sequence Length"
         }
        },
        "yaxis": {
         "title": {
          "text": "Run Time (s)"
         }
        }
       }
      },
      "text/html": [
       "<div>                        <script type=\"text/javascript\">window.PlotlyConfig = {MathJaxConfig: 'local'};</script>\n",
       "        <script charset=\"utf-8\" src=\"https://cdn.plot.ly/plotly-3.0.0.min.js\"></script>                <div id=\"7ec9b6d3-b997-4023-88c8-65126041da53\" class=\"plotly-graph-div\" style=\"height:100%; width:100%;\"></div>            <script type=\"text/javascript\">                window.PLOTLYENV=window.PLOTLYENV || {};                                if (document.getElementById(\"7ec9b6d3-b997-4023-88c8-65126041da53\")) {                    Plotly.newPlot(                        \"7ec9b6d3-b997-4023-88c8-65126041da53\",                        [{\"marker\":{\"color\":\"blue\",\"opacity\":0.7},\"mode\":\"markers\",\"name\":\"Individual Runs\",\"x\":{\"dtype\":\"i2\",\"bdata\":\"DQAMAAoAAgAdAAIAEwAFABQAFgAVABMAHwAgAAoACwACABQAHwAMAAYAFgAYAAYAEQBCACcAEQAVAAoAUwEdADEAFgAlABoABgADAAsABwAPAAQAEQAbAGEACwAZAAUAHgB8AAIAFAAUAAoADAAIABEABAArAAcATwAXACMADAAaAEgAKABBABIAFQA7AAIAEQALAA8ABgACABIAMQABACoAEAAMACQAMAAQABYAMwAHAAUADgAHAAgAHwAKAAQACAAHABkANQAWAA4ADAACAJ4ABQAOABEABAA1AAIAPQAQAAsAMwAXADwADgAaAEoAHgACAA4AEgAMAAsABAALAAwAHgERAB4ATAAGACQAAwAMABsAIwAxAAcACwA5ABsAGgAUABIACwAPAAkABAACAAoAGQAFAAkABgAKACYAPABIAAIAEQAaAAoAyQAzABgAEwADAAYAegAGABoAGAB4ACIAGQAGABQAFQAHADsACAAMAAIAFAAIABQADABXAAIACwBFACMABAA3AEIAFgADAEwADAA4AAwAIAAIACUAHgAIAAkADwAaABEAIwALABMAEQALAAsADwACAEIAFQAsAA0AAgASABYAFwAEAA0APwACAAwALAATACYABgAvAAIALAABAA4ACAAJAAgADQAKABAAJwANAAcAFgAPAFgAcQAVABwACwAWABQAFQAKAAkABAACACsAIgAcACwAEwBqAAgAOgAZACIACwAHAAkAHAAUAAwAKQANAAgAJgATAAsAKgAMAAoAJgAuACUAJwAYABAALgAGAB8ACQATAAYAOAAPAA0AFAAPAAkAEwEVAAkAOAADAAsADQASABUA0QEZABkAEwAQABIADgAuABcACgASAAIAKAARAA4AlAAVAAoABAAbAA0AIQAxAE8ABQAgABkAGQAqAAQANgAIAB4AMAANAAwAAgAZAA0AWQADAAwALwAwAA8AIgBEABEADgANAA4AZAAeABIABwALACYANQAPAAcACwA4AwYACABOABoAAgCOABAAEAAGABoAHgAMAA8ACwAKAAwACwArABYACgAGABsAAgAPAC8ACQAHAA4ACwBFAAsABQA1ACwAEwAcADQAXAAFAAUADABDACEAngAVABcAFAALAA4ABAAuAFsAMQA2AAYAHAA5ABoAFQAOABMABgARABEAEQA\\u002fAAUAcgA6ACUAQQACAAIAHwAJABEACgA=\"},\"y\":{\"dtype\":\"f8\",\"bdata\":\"AAAAAEB2dD8AAAAAgJJoPwAAAAAAZHA\\u002fAAAAAABicD8AAAAAgItoPwAAAACAZGA\\u002fAAAAAIBjYD8AAAAAgJZoPwAAAACAjmg\\u002fAAAAAACQaD8AAAAAgGtgPwAAAAAAi2g\\u002fAAAAAICZaD8AAAAAEGmRPwAAAAAAX2A\\u002fAAAAAACSaD8AAAAAgJpoPwAAAAAAXGA\\u002fAAAAAIBWYD8AAAAAAGNgPwAAAAAAZWA\\u002fAAAAAICcdj8AAAAAAF9gPwAAAAAAZFA\\u002fAAAAAAChaD8AAAAAwIOGPwAAAAAAjo8\\u002fAAAAAABwYD8AAAAAgGCAPwAAAAAAXGA\\u002fAAAAABB0kz8AAAAA4G+CPwAAAADAe3Q\\u002fAAAAAICKaD8AAAAAwGNwPwAAAACAlmg\\u002fAAAAAICQaD8AAAAAgGtgPwAAAAAAVWA\\u002fAAAAAIBrYD8AAAAAAFxgPwAAAAAAm2g\\u002fAAAAAMB8dD8AAAAAIJOIPwAAAACAlXg\\u002fAAAAAMB5dD8AAAAAgJhoPwAAAACAYnA\\u002fAAAAAMBicD8AAAAAYPGiPwAAAACAYmA\\u002fAAAAAACGhj8AAAAAgGhgPwAAAAAAXWA\\u002fAAAAAICZaD8AAAAAgF1gPwAAAAAAZWA\\u002fAAAAAABpUD8AAAAAAGJwPwAAAAAAXWA\\u002fAAAAAICTeD8AAAAAAPKGPwAAAACAkmg\\u002fAAAAAAChaD8AAAAAgIxoPwAAAADge4Q\\u002fAAAAAAB5dD8AAAAAwJJ4PwAAAACAkmg\\u002fAAAAAIBfcD8AAAAAwKl8PwAAAACAYWA\\u002fAAAAAACOaD8AAAAAAJFoPwAAAAAAkmg\\u002fAAAAAABhYD8AAAAAAGNgPwAAAAAAamA\\u002fAAAAAACReD8AAAAAAGhQPwAAAAAAkmg\\u002fAAAAAABlYD8AAAAAgJhoPwAAAACAimg\\u002fAAAAAMCVeD8AAAAAAF9gPwAAAAAAmGg\\u002fAAAAAICRaD8AAAAAAGdgPwAAAACAXmA\\u002fAAAAAIBhYD8AAAAAgJpoPwAAAACAYmA\\u002fAAAAAACLaD8AAAAAAGtgPwAAAAAAimg\\u002fAAAAAICaaD8AAAAAAGJgPwAAAACAk2g\\u002fAAAAAICXaD8AAAAAgJdoPwAAAACAjWg\\u002fAAAAAABhYD8AAAAAAGtQPwAAAAAAuI4\\u002fAAAAAICpfD8AAAAAAJdoPwAAAACAYGA\\u002fAAAAAABjYD8AAAAAwHp0PwAAAAAAX2A\\u002fAAAAAIBjcD8AAAAAgGNgPwAAAABAYnA\\u002fAAAAAIBkcD8AAAAAQHl0PwAAAAAAk3g\\u002fAAAAAICWaD8AAAAAAF5gPwAAAABAenQ\\u002fAAAAAABgYD8AAAAAAF1gPwAAAAAAYmA\\u002fAAAAAIBeYD8AAAAAgJdoPwAAAAAAYmA\\u002fAAAAAIBfYD8AAAAAAGdgPwAAAAAAk2g\\u002fAAAAAHBokT8AAAAAgF9gPwAAAAAAZmA\\u002fAAAAAABhcD8AAAAAAJBoPwAAAAAAk2g\\u002fAAAAAIBjYD8AAAAAQGJwPwAAAADAYnA\\u002fAAAAAICQaD8AAAAAAGJwPwAAAAAAlGg\\u002fAAAAAABkcD8AAAAAwGFwPwAAAAAAlGg\\u002fAAAAAABpcD8AAAAAAJhoPwAAAACAmZk\\u002fAAAAAICRaD8AAAAAgJRoPwAAAACAlWg\\u002fAAAAAACQaD8AAAAAAGtgPwAAAAAAaWA\\u002fAAAAAABiYD8AAAAAAGtQPwAAAAAAW2A\\u002fAAAAAIBsYD8AAAAAgGRgPwAAAACAj2g\\u002fAAAAAMBugj8AAAAAgHp0PwAAAACAYGA\\u002fAAAAAIB8dD8AAAAAgJJoPwAAAAAAYGA\\u002fAAAAAACIhj8AAAAAgJVoPwAAAAAAjmg\\u002fAAAAAICOaD8AAAAAgGJgPwAAAAAAaFA\\u002fAAAAAMBtgj8AAAAAAFxQPwAAAACAlGg\\u002fAAAAAIBiYD8AAAAAeH+hPwAAAAAAjmg\\u002fAAAAAACVaD8AAAAAAJZoPwAAAACAjGg\\u002fAAAAAABgYD8AAAAAAGVgPwAAAAAge4Q\\u002fAAAAAABlYD8AAAAAAGNgPwAAAACAbII\\u002fAAAAAICbaD8AAAAAAGNwPwAAAAAAj2g\\u002fAAAAAACVaD8AAAAA0PGiPwAAAACAYWA\\u002fAAAAAABgYD8AAAAAwHl0PwAAAADAfHQ\\u002fAAAAAIBhYD8AAAAAAHp0PwAAAAAArnw\\u002fAAAAAIBiYD8AAAAAAGVgPwAAAAAAqnw\\u002fAAAAAIBiYD8AAAAAgJV4PwAAAACAZWA\\u002fAAAAAMBfcD8AAAAAAJFoPwAAAADw8aE\\u002fAAAAAAB7dD8AAAAAAKZoPwAAAAAAXmA\\u002fAAAAAABgYD8AAAAAgJFoPwAAAADAmHg\\u002fAAAAAACMaD8AAAAAgF1gPwAAAAAAaWA\\u002fAAAAAIBhYD8AAAAAgGpgPwAAAADgaoI\\u002fAAAAAABmcD8AAAAAAF5gPwAAAABAenQ\\u002fAAAAAABgYD8AAAAA4HuEPwAAAACAlmg\\u002fAAAAAABqYD8AAAAAAIloPwAAAACAYmA\\u002fAAAAAICOaD8AAAAAgGJgPwAAAACAlHg\\u002fAAAAAEBhcD8AAAAAAGVgPwAAAAAAYGA\\u002fAAAAACBwgj8AAAAAgFxgPwAAAAAAmXg\\u002fAAAAAABdYD8AAAAAAI1oPwAAAAAAlWg\\u002fAAAAACBQjD8AAAAAAGBgPwAAAABAoYo\\u002fAAAAAEBicD8AAAAAAGNgPwAAAACAXGA\\u002fAAAAAABhYD8AAAAAADtcPwAAAAAAVmA\\u002fAAAAAICAcj8AAAAAAIB0PwAAAACAWmA\\u002fAAAAAIBncD8AAAAAAI5oPwAAAAAArHw\\u002fAAAAAKBtgj8AAAAAAGRgPwAAAACAk2g\\u002fAAAAAMB5dD8AAAAAgGFgPwAAAAAAlWg\\u002fAAAAAIBhYD8AAAAAAH10PwAAAACAYWA\\u002fAAAAAIBeYD8AAAAAAF1QPwAAAABAY3A\\u002fAAAAAABncD8AAAAAAI9oPwAAAADAdnQ\\u002fAAAAAMBocD8AAAAAwCZzPwAAAAAAY1A\\u002fAAAAAABjcD8AAAAAAJ1oPwAAAACAXnA\\u002fAAAAAIBjYD8AAAAAgF1gPwAAAACAZGA\\u002fAAAAAACaaD8AAAAAQF5wPwAAAAAAYVA\\u002fAAAAAACaaD8AAAAAgJF4PwAAAACAZGA\\u002fAAAAAACQaD8AAAAAAGdgPwAAAABAYnA\\u002fAAAAAEBhcD8AAAAAgGBwPwAAAACAY2A\\u002fAAAAAIBjcD8AAAAAAJBoPwAAAACAk2g\\u002fAAAAAIB\\u002fdD8AAAAAgJBoPwAAAAAAlWg\\u002fAAAAAIB3dD8AAAAAAJloPwAAAABAZHA\\u002fAAAAAEB3dD8AAAAAgHp0PwAAAACAXmA\\u002fAAAAADhvoj8AAAAAAJhoPwAAAABAXnA\\u002fAAAAAICRaD8AAAAAgGhgPwAAAACAkmg\\u002fAAAAAPBdmz8AAAAAgGtgPwAAAAAAWWA\\u002fAAAAAMB6dD8AAAAAAF5gPwAAAACAZmA\\u002fAAAAAABjUD8AAAAAgGVgPwAAAAAAlGg\\u002fAAAAACzCtT8AAAAAAGRgPwAAAAAAYmA\\u002fAAAAAIBiYD8AAAAAAG5wPwAAAAAAXGA\\u002fAAAAAABhUD8AAAAAgJNoPwAAAAAAZFA\\u002fAAAAAABjUD8AAAAAAJ5oPwAAAAAAb1A\\u002fAAAAAABYYD8AAAAAAJdoPwAAAABAgXQ\\u002fAAAAAACReD8AAAAAAGJgPwAAAAAAZmA\\u002fAAAAAABkUD8AAAAAwI5+PwAAAABAaHA\\u002fAAAAAACHaD8AAAAAgJRoPwAAAABAYXA\\u002fAAAAAIByYD8AAAAAgGJgPwAAAACAX2A\\u002fAAAAAABhYD8AAAAAgJNoPwAAAACAnGg\\u002fAAAAAMBfcD8AAAAAAFtQPwAAAAAAYmA\\u002fAAAAAACYaD8AAAAAgJF4PwAAAACAYWA\\u002fAAAAAABiUD8AAAAAgGdgPwAAAAAAXWA\\u002fAAAAAEBjgD8AAAAAAFxQPwAAAAAAY2A\\u002fAAAAAACUaD8AAAAAgH10PwAAAAAAjGg\\u002fAAAAAICTaD8AAAAA4IiGPwAAAAAAXGA\\u002fAAAAAABtUD8AAAAAgGRgPwAAAAAAYmA\\u002fAAAAAIB6dD8AAAAAAGNgPwAAAAAAY3A\\u002fAAAAAADpVz8AAAAAAF5QPwAAAAAAY2A\\u002fAAAAAIBwgj8AAAAAgFpgPwAAAACAYWA\\u002fAAAAAABpUD8AAAAAoOuxPwAAAAAAmGg\\u002fAAAAAICUaD8AAAAAcJmpPwAAAADAeXQ\\u002fAAAAAABnYD8AAAAAcHSTPwAAAAAAkmg\\u002fAAAAAICQaD8AAAAAgJVoPwAAAACAeXQ\\u002fAAAAAABhcD8AAAAAAGxgPwAAAACAZGA\\u002fAAAAAICZaD8AAAAAgGVgPwAAAAAAY2A\\u002fAAAAAABfYD8AAAAAQHx0PwAAAAAAk2g\\u002fAAAAAACRaD8AAAAAAJNoPwAAAACgYYA\\u002fAAAAAABjYD8AAAAAgGJwPwAAAADAYIA\\u002fAAAAAGBggD8AAAAAgFtgPwAAAACAZ2A\\u002fAAAAAACPaD8AAAAAgJR4PwAAAACg0Js\\u002fAAAAAND1kj8AAAAAAJV4PwAAAAAAX3A\\u002fAAAAAIBkYD8AAAAAgGBgPwAAAABAfnQ\\u002fAAAAAAB7dD8AAAAAAF9QPwAAAAAAY2A\\u002fAAAAAICWaD8AAAAAAGNwPwAAAAAAXmA\\u002fAAAAAMCfij8AAAAAAGRgPwAAAACAnmg\\u002fAAAAAICXaD8AAAAAAFlgPwAAAAAAY1A\\u002fAAAAAAByUD8AAAAAgIxoPwAAAACArHw\\u002fAAAAACBwgj8AAAAAAJFoPwAAAAAAZFA\\u002fAAAAAHCTmD8AAAAAQJV4PwAAAADAZHA\\u002fAAAAAIBgYD8AAAAAAF1gPwAAAAAAZVA\\u002fAAAAAABhYD8AAAAAAGNQPwAAAACAYWA\\u002fAAAAAEB9dD8AAAAAgI9oPwAAAAAAX1A\\u002fAAAAAECBdD8AAAAAYB+PPwAAAADAX3A\\u002fAAAAAICQaD8AAAAAgGFgPwAAAAAAaVA\\u002fAAAAAMB5dD8AAAAAAGNQPwAAAAAAYmA\\u002fAAAAAIBicD8=\"},\"type\":\"scatter\"},{\"line\":{\"color\":\"red\",\"width\":2},\"mode\":\"lines\",\"name\":\"Average Time\",\"x\":{\"dtype\":\"i2\",\"bdata\":\"AQACAAMABAAFAAYABwAIAAkACgALAAwADQAOAA8AEAARABIAEwAUABUAFgAXABgAGQAaABsAHAAdAB4AHwAgACEAIgAjACQAJQAmACcAKAApACoAKwAsAC4ALwAwADEAMwA0ADUANgA3ADgAOQA6ADsAPAA9AD8AQQBCAEMARABFAEgASgBMAE4ATwBXAFgAWQBbAFwAYQBkAGoAcQByAHgAegB8AI4AlACeAMkAEwEeAVMB0QE4Aw==\"},\"y\":{\"dtype\":\"f8\",\"bdata\":\"AAAAAACUWD+rqqqqem9iPwAAAACAC14\\u002fVVVVVdURYT8AAAAA4AFxPwAAAAAA1WE\\u002fVVVVVTVhYT8AAAAAgCtkP3TRRRfd0Wc\\u002fAAAAAGjUYz9VVVVVBT1wP6uqqqqqrmQ\\u002fq6qqqupmbz\\u002fZiZ3YiTZpP6uqqqpqhmY\\u002fAAAAACCCZT8AAAAAwBJoP6uqqqpq73Q\\u002fL7roogvbZD9VVVVVtVltP1VVVVVVh2Y\\u002fZmZmZiYBaT\\u002fNzMzMjAJzPwAAAAAAeGQ\\u002fAAAAAACrYz+amZmZWaxsP5qZmZmZOnw\\u002fzczMzAysfD8AAAAAwJJ4PwAAAACAk2g\\u002fzczMzMzXaz9VVVVVFWd\\u002fPwAAAACAcmQ\\u002fAAAAACCrbD8AAAAAIKpsPwAAAADAjmg\\u002fAAAAAJiThz+amZmZGX9tP6uqqqqqBIE\\u002fAAAAAAClbD8AAAAAAJpoP1VVVVVVTWs\\u002fAAAAAIDAcT9mZmZmZiGBPwAAAADAp2w\\u002fVVVVVVUbcz8AAAAAwB9zP2ZmZmamHnY\\u002fAAAAAABQaz8AAAAAQH50PwAAAAAgj3c\\u002fAAAAAECobD8AAAAAAHp0PwAAAACAC5A\\u002fAAAAAIB7dD8AAAAAcKiDPwAAAAAAaIE\\u002fAAAAAEC4fj8AAAAAgGNwPwAAAAAAqWw\\u002fAAAAAIBtcj8AAAAAQGV\\u002fPwAAAAAAY3A\\u002fAAAAAOCIhj8AAAAAIId2PwAAAAAguX4\\u002fAAAAAEB6dD8AAAAAgIV2PwAAAABwmak\\u002fAAAAAGB6dD8AAAAA0PGiPwAAAAAArHw\\u002fAAAAAEBjgD8AAAAAgKx8PwAAAAAAe3Q\\u002fAAAAAICVeD8AAAAAgHp0PwAAAADAJnM\\u002fAAAAAKBtgj8AAAAAQIF0PwAAAAB4f6E\\u002fAAAAAMBtgj8AAAAAYPGiPwAAAABwdJM\\u002fAAAAAACReD8AAAAA4KuMPwAAAAAAiIY\\u002fAAAAAPBdmz8AAAAAcGiRPwAAAAAQdJM\\u002fAAAAACzCtT8AAAAAoOuxPw==\"},\"type\":\"scatter\"}],                        {\"legend\":{\"orientation\":\"h\",\"x\":0.5,\"xanchor\":\"center\"},\"title\":{\"text\":\"Run Time vs Sequence Length\"},\"xaxis\":{\"title\":{\"text\":\"Sequence Length\"}},\"yaxis\":{\"title\":{\"text\":\"Run Time (s)\"}},\"template\":{\"data\":{\"histogram2dcontour\":[{\"type\":\"histogram2dcontour\",\"colorbar\":{\"outlinewidth\":0,\"ticks\":\"\"},\"colorscale\":[[0.0,\"#0d0887\"],[0.1111111111111111,\"#46039f\"],[0.2222222222222222,\"#7201a8\"],[0.3333333333333333,\"#9c179e\"],[0.4444444444444444,\"#bd3786\"],[0.5555555555555556,\"#d8576b\"],[0.6666666666666666,\"#ed7953\"],[0.7777777777777778,\"#fb9f3a\"],[0.8888888888888888,\"#fdca26\"],[1.0,\"#f0f921\"]]}],\"choropleth\":[{\"type\":\"choropleth\",\"colorbar\":{\"outlinewidth\":0,\"ticks\":\"\"}}],\"histogram2d\":[{\"type\":\"histogram2d\",\"colorbar\":{\"outlinewidth\":0,\"ticks\":\"\"},\"colorscale\":[[0.0,\"#0d0887\"],[0.1111111111111111,\"#46039f\"],[0.2222222222222222,\"#7201a8\"],[0.3333333333333333,\"#9c179e\"],[0.4444444444444444,\"#bd3786\"],[0.5555555555555556,\"#d8576b\"],[0.6666666666666666,\"#ed7953\"],[0.7777777777777778,\"#fb9f3a\"],[0.8888888888888888,\"#fdca26\"],[1.0,\"#f0f921\"]]}],\"heatmap\":[{\"type\":\"heatmap\",\"colorbar\":{\"outlinewidth\":0,\"ticks\":\"\"},\"colorscale\":[[0.0,\"#0d0887\"],[0.1111111111111111,\"#46039f\"],[0.2222222222222222,\"#7201a8\"],[0.3333333333333333,\"#9c179e\"],[0.4444444444444444,\"#bd3786\"],[0.5555555555555556,\"#d8576b\"],[0.6666666666666666,\"#ed7953\"],[0.7777777777777778,\"#fb9f3a\"],[0.8888888888888888,\"#fdca26\"],[1.0,\"#f0f921\"]]}],\"contourcarpet\":[{\"type\":\"contourcarpet\",\"colorbar\":{\"outlinewidth\":0,\"ticks\":\"\"}}],\"contour\":[{\"type\":\"contour\",\"colorbar\":{\"outlinewidth\":0,\"ticks\":\"\"},\"colorscale\":[[0.0,\"#0d0887\"],[0.1111111111111111,\"#46039f\"],[0.2222222222222222,\"#7201a8\"],[0.3333333333333333,\"#9c179e\"],[0.4444444444444444,\"#bd3786\"],[0.5555555555555556,\"#d8576b\"],[0.6666666666666666,\"#ed7953\"],[0.7777777777777778,\"#fb9f3a\"],[0.8888888888888888,\"#fdca26\"],[1.0,\"#f0f921\"]]}],\"surface\":[{\"type\":\"surface\",\"colorbar\":{\"outlinewidth\":0,\"ticks\":\"\"},\"colorscale\":[[0.0,\"#0d0887\"],[0.1111111111111111,\"#46039f\"],[0.2222222222222222,\"#7201a8\"],[0.3333333333333333,\"#9c179e\"],[0.4444444444444444,\"#bd3786\"],[0.5555555555555556,\"#d8576b\"],[0.6666666666666666,\"#ed7953\"],[0.7777777777777778,\"#fb9f3a\"],[0.8888888888888888,\"#fdca26\"],[1.0,\"#f0f921\"]]}],\"mesh3d\":[{\"type\":\"mesh3d\",\"colorbar\":{\"outlinewidth\":0,\"ticks\":\"\"}}],\"scatter\":[{\"fillpattern\":{\"fillmode\":\"overlay\",\"size\":10,\"solidity\":0.2},\"type\":\"scatter\"}],\"parcoords\":[{\"type\":\"parcoords\",\"line\":{\"colorbar\":{\"outlinewidth\":0,\"ticks\":\"\"}}}],\"scatterpolargl\":[{\"type\":\"scatterpolargl\",\"marker\":{\"colorbar\":{\"outlinewidth\":0,\"ticks\":\"\"}}}],\"bar\":[{\"error_x\":{\"color\":\"#2a3f5f\"},\"error_y\":{\"color\":\"#2a3f5f\"},\"marker\":{\"line\":{\"color\":\"#E5ECF6\",\"width\":0.5},\"pattern\":{\"fillmode\":\"overlay\",\"size\":10,\"solidity\":0.2}},\"type\":\"bar\"}],\"scattergeo\":[{\"type\":\"scattergeo\",\"marker\":{\"colorbar\":{\"outlinewidth\":0,\"ticks\":\"\"}}}],\"scatterpolar\":[{\"type\":\"scatterpolar\",\"marker\":{\"colorbar\":{\"outlinewidth\":0,\"ticks\":\"\"}}}],\"histogram\":[{\"marker\":{\"pattern\":{\"fillmode\":\"overlay\",\"size\":10,\"solidity\":0.2}},\"type\":\"histogram\"}],\"scattergl\":[{\"type\":\"scattergl\",\"marker\":{\"colorbar\":{\"outlinewidth\":0,\"ticks\":\"\"}}}],\"scatter3d\":[{\"type\":\"scatter3d\",\"line\":{\"colorbar\":{\"outlinewidth\":0,\"ticks\":\"\"}},\"marker\":{\"colorbar\":{\"outlinewidth\":0,\"ticks\":\"\"}}}],\"scattermap\":[{\"type\":\"scattermap\",\"marker\":{\"colorbar\":{\"outlinewidth\":0,\"ticks\":\"\"}}}],\"scattermapbox\":[{\"type\":\"scattermapbox\",\"marker\":{\"colorbar\":{\"outlinewidth\":0,\"ticks\":\"\"}}}],\"scatterternary\":[{\"type\":\"scatterternary\",\"marker\":{\"colorbar\":{\"outlinewidth\":0,\"ticks\":\"\"}}}],\"scattercarpet\":[{\"type\":\"scattercarpet\",\"marker\":{\"colorbar\":{\"outlinewidth\":0,\"ticks\":\"\"}}}],\"carpet\":[{\"aaxis\":{\"endlinecolor\":\"#2a3f5f\",\"gridcolor\":\"white\",\"linecolor\":\"white\",\"minorgridcolor\":\"white\",\"startlinecolor\":\"#2a3f5f\"},\"baxis\":{\"endlinecolor\":\"#2a3f5f\",\"gridcolor\":\"white\",\"linecolor\":\"white\",\"minorgridcolor\":\"white\",\"startlinecolor\":\"#2a3f5f\"},\"type\":\"carpet\"}],\"table\":[{\"cells\":{\"fill\":{\"color\":\"#EBF0F8\"},\"line\":{\"color\":\"white\"}},\"header\":{\"fill\":{\"color\":\"#C8D4E3\"},\"line\":{\"color\":\"white\"}},\"type\":\"table\"}],\"barpolar\":[{\"marker\":{\"line\":{\"color\":\"#E5ECF6\",\"width\":0.5},\"pattern\":{\"fillmode\":\"overlay\",\"size\":10,\"solidity\":0.2}},\"type\":\"barpolar\"}],\"pie\":[{\"automargin\":true,\"type\":\"pie\"}]},\"layout\":{\"autotypenumbers\":\"strict\",\"colorway\":[\"#636efa\",\"#EF553B\",\"#00cc96\",\"#ab63fa\",\"#FFA15A\",\"#19d3f3\",\"#FF6692\",\"#B6E880\",\"#FF97FF\",\"#FECB52\"],\"font\":{\"color\":\"#2a3f5f\"},\"hovermode\":\"closest\",\"hoverlabel\":{\"align\":\"left\"},\"paper_bgcolor\":\"white\",\"plot_bgcolor\":\"#E5ECF6\",\"polar\":{\"bgcolor\":\"#E5ECF6\",\"angularaxis\":{\"gridcolor\":\"white\",\"linecolor\":\"white\",\"ticks\":\"\"},\"radialaxis\":{\"gridcolor\":\"white\",\"linecolor\":\"white\",\"ticks\":\"\"}},\"ternary\":{\"bgcolor\":\"#E5ECF6\",\"aaxis\":{\"gridcolor\":\"white\",\"linecolor\":\"white\",\"ticks\":\"\"},\"baxis\":{\"gridcolor\":\"white\",\"linecolor\":\"white\",\"ticks\":\"\"},\"caxis\":{\"gridcolor\":\"white\",\"linecolor\":\"white\",\"ticks\":\"\"}},\"coloraxis\":{\"colorbar\":{\"outlinewidth\":0,\"ticks\":\"\"}},\"colorscale\":{\"sequential\":[[0.0,\"#0d0887\"],[0.1111111111111111,\"#46039f\"],[0.2222222222222222,\"#7201a8\"],[0.3333333333333333,\"#9c179e\"],[0.4444444444444444,\"#bd3786\"],[0.5555555555555556,\"#d8576b\"],[0.6666666666666666,\"#ed7953\"],[0.7777777777777778,\"#fb9f3a\"],[0.8888888888888888,\"#fdca26\"],[1.0,\"#f0f921\"]],\"sequentialminus\":[[0.0,\"#0d0887\"],[0.1111111111111111,\"#46039f\"],[0.2222222222222222,\"#7201a8\"],[0.3333333333333333,\"#9c179e\"],[0.4444444444444444,\"#bd3786\"],[0.5555555555555556,\"#d8576b\"],[0.6666666666666666,\"#ed7953\"],[0.7777777777777778,\"#fb9f3a\"],[0.8888888888888888,\"#fdca26\"],[1.0,\"#f0f921\"]],\"diverging\":[[0,\"#8e0152\"],[0.1,\"#c51b7d\"],[0.2,\"#de77ae\"],[0.3,\"#f1b6da\"],[0.4,\"#fde0ef\"],[0.5,\"#f7f7f7\"],[0.6,\"#e6f5d0\"],[0.7,\"#b8e186\"],[0.8,\"#7fbc41\"],[0.9,\"#4d9221\"],[1,\"#276419\"]]},\"xaxis\":{\"gridcolor\":\"white\",\"linecolor\":\"white\",\"ticks\":\"\",\"title\":{\"standoff\":15},\"zerolinecolor\":\"white\",\"automargin\":true,\"zerolinewidth\":2},\"yaxis\":{\"gridcolor\":\"white\",\"linecolor\":\"white\",\"ticks\":\"\",\"title\":{\"standoff\":15},\"zerolinecolor\":\"white\",\"automargin\":true,\"zerolinewidth\":2},\"scene\":{\"xaxis\":{\"backgroundcolor\":\"#E5ECF6\",\"gridcolor\":\"white\",\"linecolor\":\"white\",\"showbackground\":true,\"ticks\":\"\",\"zerolinecolor\":\"white\",\"gridwidth\":2},\"yaxis\":{\"backgroundcolor\":\"#E5ECF6\",\"gridcolor\":\"white\",\"linecolor\":\"white\",\"showbackground\":true,\"ticks\":\"\",\"zerolinecolor\":\"white\",\"gridwidth\":2},\"zaxis\":{\"backgroundcolor\":\"#E5ECF6\",\"gridcolor\":\"white\",\"linecolor\":\"white\",\"showbackground\":true,\"ticks\":\"\",\"zerolinecolor\":\"white\",\"gridwidth\":2}},\"shapedefaults\":{\"line\":{\"color\":\"#2a3f5f\"}},\"annotationdefaults\":{\"arrowcolor\":\"#2a3f5f\",\"arrowhead\":0,\"arrowwidth\":1},\"geo\":{\"bgcolor\":\"white\",\"landcolor\":\"#E5ECF6\",\"subunitcolor\":\"white\",\"showland\":true,\"showlakes\":true,\"lakecolor\":\"white\"},\"title\":{\"x\":0.05},\"mapbox\":{\"style\":\"light\"}}}},                        {\"responsive\": true}                    )                };            </script>        </div>"
      ],
      "text/plain": [
       "Figure({\n",
       "    'data': [{'marker': {'color': 'blue', 'opacity': 0.7},\n",
       "              'mode': 'markers',\n",
       "              'name': 'Individual Runs',\n",
       "              'type': 'scatter',\n",
       "              'x': {'bdata': ('DQAMAAoAAgAdAAIAEwAFABQAFgAVAB' ... 'UAcgA6ACUAQQACAAIAHwAJABEACgA='),\n",
       "                    'dtype': 'i2'},\n",
       "              'y': {'bdata': ('AAAAAEB2dD8AAAAAgJJoPwAAAAAAZH' ... 'AAAGNQPwAAAAAAYmA/AAAAAIBicD8='),\n",
       "                    'dtype': 'f8'}},\n",
       "             {'line': {'color': 'red', 'width': 2},\n",
       "              'mode': 'lines',\n",
       "              'name': 'Average Time',\n",
       "              'type': 'scatter',\n",
       "              'x': {'bdata': ('AQACAAMABAAFAAYABwAIAAkACgALAA' ... 'B8AI4AlACeAMkAEwEeAVMB0QE4Aw=='),\n",
       "                    'dtype': 'i2'},\n",
       "              'y': {'bdata': ('AAAAAACUWD+rqqqqem9iPwAAAACAC1' ... 'AQdJM/AAAAACzCtT8AAAAAoOuxPw=='),\n",
       "                    'dtype': 'f8'}}],\n",
       "    'layout': {'legend': {'orientation': 'h', 'x': 0.5, 'xanchor': 'center'},\n",
       "               'template': '...',\n",
       "               'title': {'text': 'Run Time vs Sequence Length'},\n",
       "               'xaxis': {'title': {'text': 'Sequence Length'}},\n",
       "               'yaxis': {'title': {'text': 'Run Time (s)'}}}\n",
       "})"
      ]
     },
     "execution_count": null,
     "metadata": {},
     "output_type": "execute_result"
    }
   ],
   "source": [
    "from benchmark import to_plotly\n",
    "to_plotly(*benchmark(classifier, dataset['train']))"
   ]
  },
  {
   "cell_type": "markdown",
   "metadata": {},
   "source": [
    "### Other dataset"
   ]
  },
  {
   "cell_type": "code",
   "execution_count": null,
   "metadata": {},
   "outputs": [],
   "source": [
    "from datasets import load_dataset\n",
    "\n",
    "def map_sentiment(x):\n",
    "    x['sentiment'] = {0: 'neutral', 1: 'positive', 2: 'negative'}[x['sentiment']]\n",
    "    return x\n",
    "\n",
    "dataset = load_dataset(\"MonoHime/ru_sentiment_dataset\").remove_columns('Unnamed: 0')\n",
    "dataset['test'] = dataset.pop('validation')\n",
    "dataset = dataset.map(map_sentiment)\n",
    "dataset = dataset.rename_column(\"sentiment\", \"label\")"
   ]
  },
  {
   "cell_type": "markdown",
   "metadata": {},
   "source": [
    "## Finetune a model"
   ]
  },
  {
   "cell_type": "code",
   "execution_count": null,
   "metadata": {},
   "outputs": [],
   "source": [
    "from transformers import AutoModelForSequenceClassification\n",
    "\n",
    "model_name = \"cointegrated/rubert-tiny-sentiment-balanced\"\n",
    "model = AutoModelForSequenceClassification.from_pretrained(model_name, num_labels=3).cuda()"
   ]
  },
  {
   "cell_type": "code",
   "execution_count": null,
   "metadata": {},
   "outputs": [
    {
     "data": {
      "text/plain": [
       "{'negative': 0, 'neutral': 1, 'positive': 2}"
      ]
     },
     "execution_count": null,
     "metadata": {},
     "output_type": "execute_result"
    }
   ],
   "source": [
    "model.config.label2id"
   ]
  },
  {
   "cell_type": "code",
   "execution_count": null,
   "metadata": {},
   "outputs": [
    {
     "data": {
      "application/vnd.jupyter.widget-view+json": {
       "model_id": "b31078f174bb4063a96675acea187fbb",
       "version_major": 2,
       "version_minor": 0
      },
      "text/plain": [
       "Map:   0%|          | 0/457 [00:00<?, ? examples/s]"
      ]
     },
     "metadata": {},
     "output_type": "display_data"
    },
    {
     "data": {
      "application/vnd.jupyter.widget-view+json": {
       "model_id": "56bf56318b18473096bbcc362dcd456f",
       "version_major": 2,
       "version_minor": 0
      },
      "text/plain": [
       "Map:   0%|          | 0/51 [00:00<?, ? examples/s]"
      ]
     },
     "metadata": {},
     "output_type": "display_data"
    },
    {
     "data": {
      "application/vnd.jupyter.widget-view+json": {
       "model_id": "e5933772f8364f7d861bfb32672a2ba4",
       "version_major": 2,
       "version_minor": 0
      },
      "text/plain": [
       "Map:   0%|          | 0/457 [00:00<?, ? examples/s]"
      ]
     },
     "metadata": {},
     "output_type": "display_data"
    },
    {
     "data": {
      "application/vnd.jupyter.widget-view+json": {
       "model_id": "32a9ee776ead4e88b49da3d2fbaa9221",
       "version_major": 2,
       "version_minor": 0
      },
      "text/plain": [
       "Map:   0%|          | 0/51 [00:00<?, ? examples/s]"
      ]
     },
     "metadata": {},
     "output_type": "display_data"
    }
   ],
   "source": [
    "from transformers import DataCollatorWithPadding\n",
    "\n",
    "data_collator = DataCollatorWithPadding(tokenizer=tokenizer)\n",
    "\n",
    "def tokenize_fn(tokenizer): \n",
    "    # this fixes multiprocessing issue\n",
    "    def _f(x): return tokenizer(x[\"text\"], truncation=True)\n",
    "    return _f\n",
    "\n",
    "\n",
    "ds = dataset.\\\n",
    "    map(tokenize_fn(tokenizer), batched=True, remove_columns=['text'], num_proc=1).\\\n",
    "    map(lambda x: {'label': [model.config.label2id[xl] for xl in x['label']]}, batched=True)"
   ]
  },
  {
   "cell_type": "markdown",
   "metadata": {},
   "source": [
    "## Code for eval and predict"
   ]
  },
  {
   "cell_type": "code",
   "execution_count": null,
   "metadata": {},
   "outputs": [],
   "source": [
    "from numpy import average\n",
    "from torcheval.metrics import MulticlassAccuracy, MulticlassPrecision, MulticlassRecall, MulticlassF1Score\n",
    "\n",
    "def predict(model, dl):\n",
    "    preds, targets = [], []\n",
    "    with torch.no_grad():\n",
    "        for batch in tqdm(dl):\n",
    "            batch = batch.to(model.device)\n",
    "            logits = model(**batch).logits\n",
    "            preds.append(logits.argmax(dim=-1)) \n",
    "            targets.append(batch[\"labels\"])\n",
    "    \n",
    "    preds = torch.cat(preds).detach().cpu()\n",
    "    targets = torch.cat(targets).detach().cpu()        \n",
    "    return preds, targets\n",
    "\n",
    "\n",
    "def do_eval(model, dl, agg=False):\n",
    "    preds, targets = predict(model, dl)\n",
    "    average = None if not agg else 'micro'\n",
    "    metrics = {\n",
    "        \"accuracy\": MulticlassAccuracy(average=average, num_classes=3),\n",
    "        \"precision\": MulticlassPrecision(average=average, num_classes=3),\n",
    "        \"recall\": MulticlassRecall(average=average, num_classes=3),\n",
    "        \"f1\": MulticlassF1Score(average=average, num_classes=3),\n",
    "    }\n",
    "    results = {}\n",
    "    for metric_name, metric_obj in metrics.items():\n",
    "        metric_obj.update(preds, targets)\n",
    "        if not agg: results[metric_name] = {model.config.id2label[i]:v.item() for i,v in enumerate(metric_obj.compute())}\n",
    "        else: results[metric_name] = metric_obj.compute().item()\n",
    "    return results"
   ]
  },
  {
   "cell_type": "code",
   "execution_count": null,
   "metadata": {},
   "outputs": [],
   "source": [
    "import matplotlib.pyplot as plt\n",
    "\n",
    "def update_graph(points: list[list], graph_ax, graph_out, names=None, x_bounds=None, y_bounds=None):\n",
    "    graph_ax.clear()\n",
    "    for i, p in enumerate(points): graph_ax.plot(*p, label=names[i] if names else None)\n",
    "    graph_ax.legend(loc='upper right')\n",
    "    if x_bounds is not None: graph_ax.set_xlim(*x_bounds)\n",
    "    if y_bounds is not None: graph_ax.set_ylim(*y_bounds)\n",
    "    graph_out.update(graph_ax.figure)"
   ]
  },
  {
   "cell_type": "code",
   "execution_count": null,
   "metadata": {},
   "outputs": [],
   "source": [
    "def get_loss(model, dl):\n",
    "    total_loss = 0.0\n",
    "    total_batches = 0\n",
    "    with torch.no_grad():\n",
    "        for batch in tqdm(dl, leave=True):\n",
    "            batch = batch.to(model.device)\n",
    "            total_loss += model(**batch).loss.item()\n",
    "            total_batches += 1\n",
    "    return total_loss / total_batches if total_batches > 0 else 0.0"
   ]
  },
  {
   "cell_type": "markdown",
   "metadata": {},
   "source": [
    "## Training loop"
   ]
  },
  {
   "cell_type": "code",
   "execution_count": null,
   "metadata": {},
   "outputs": [],
   "source": [
    "from torch.utils.data import DataLoader\n",
    "\n",
    "bs = 16\n",
    "dl_train = DataLoader(ds[\"train\"], shuffle=True, collate_fn=data_collator, batch_size=bs)\n",
    "dl_test = DataLoader(ds[\"test\"], shuffle=False, collate_fn=data_collator, batch_size=bs)"
   ]
  },
  {
   "cell_type": "code",
   "execution_count": null,
   "metadata": {},
   "outputs": [
    {
     "data": {
      "application/vnd.jupyter.widget-view+json": {
       "model_id": "320f1923a09949cb93f36a928643741d",
       "version_major": 2,
       "version_minor": 0
      },
      "text/plain": [
       "  0%|          | 0/29 [00:00<?, ?it/s]"
      ]
     },
     "metadata": {},
     "output_type": "display_data"
    },
    {
     "name": "stderr",
     "output_type": "stream",
     "text": [
      "e:\\Python\\RL\\.conda\\Lib\\site-packages\\torcheval\\metrics\\functional\\classification\\accuracy.py:275: UserWarning: The reduce argument of torch.scatter with Tensor src is deprecated and will be removed in a future PyTorch release. Use torch.scatter_reduce instead for more reduction options. (Triggered internally at C:\\actions-runner\\_work\\pytorch\\pytorch\\pytorch\\aten\\src\\ATen\\native\\TensorAdvancedIndexing.cpp:234.)\n",
      "  num_correct = mask.new_zeros(num_classes).scatter_(0, target, mask, reduce=\"add\")\n"
     ]
    },
    {
     "data": {
      "text/plain": [
       "{'accuracy': {'negative': 0.4193548262119293,\n",
       "  'neutral': 0.7159090638160706,\n",
       "  'positive': 0.7716049551963806},\n",
       " 'precision': {'negative': 0.23636363446712494,\n",
       "  'neutral': 0.807692289352417,\n",
       "  'positive': 0.7440476417541504},\n",
       " 'recall': {'negative': 0.4193548262119293,\n",
       "  'neutral': 0.7159090638160706,\n",
       "  'positive': 0.7716049551963806},\n",
       " 'f1': {'negative': 0.302325576543808,\n",
       "  'neutral': 0.7590361833572388,\n",
       "  'positive': 0.7575757503509521}}"
      ]
     },
     "execution_count": null,
     "metadata": {},
     "output_type": "execute_result"
    }
   ],
   "source": [
    "do_eval(model, dl_train)"
   ]
  },
  {
   "cell_type": "code",
   "execution_count": null,
   "metadata": {},
   "outputs": [],
   "source": [
    "from types import SimpleNamespace\n",
    "\n",
    "config = SimpleNamespace(\n",
    "n_epochs = 5,\n",
    "window = 500,\n",
    "cleanup_step = 100,\n",
    "eval_step = 16\n",
    ")\n",
    "# reinitialize model in case we want to change parameters and restart training from scratch\n",
    "model = AutoModelForSequenceClassification.from_pretrained(model_name, num_labels=3).cuda()\n",
    "optimizer = torch.optim.Adam(params=model.parameters(), lr=1e-4)\n",
    "# sched = torch.optim.lr_scheduler.CosineAnnealingLR(optimizer, T_max=config.n_epochs)"
   ]
  },
  {
   "cell_type": "code",
   "execution_count": null,
   "metadata": {},
   "outputs": [],
   "source": [
    "weights = torch.tensor(ds['train']['label']).unique(return_counts=True)[1]\n",
    "weights = weights/weights.sum()"
   ]
  },
  {
   "cell_type": "code",
   "execution_count": null,
   "metadata": {},
   "outputs": [],
   "source": [
    "def loss_fn(logits, labels): return torch.nn.functional.cross_entropy(logits, labels, weight=weights.to(logits.device))"
   ]
  },
  {
   "cell_type": "code",
   "execution_count": null,
   "metadata": {},
   "outputs": [],
   "source": [
    "model.train()\n",
    "cleanup()"
   ]
  },
  {
   "cell_type": "code",
   "execution_count": null,
   "metadata": {},
   "outputs": [],
   "source": [
    "def train(model, optimizer, dl_train, dl_test, config):\n",
    "    fig, ax = plt.subplots(figsize=(9,4))\n",
    "    graph_out = display(fig, display_id=True)\n",
    "    eval_steps = []\n",
    "    losses, test_losses = [], []\n",
    "    step, ewm_loss = 0, 0\n",
    "    try:\n",
    "        for _ in trange(config.n_epochs):\n",
    "            for i, batch in enumerate(tqdm(dl_train, leave=True)):\n",
    "                step += 1\n",
    "                batch = batch.to(model.device)\n",
    "                output = model(**batch)\n",
    "                loss = loss_fn(output.logits, batch['labels'])\n",
    "                loss.backward()\n",
    "                optimizer.step()\n",
    "                optimizer.zero_grad()\n",
    "                # sched.step()\n",
    "            \n",
    "                \n",
    "                if i % config.cleanup_step == 0: cleanup()\n",
    "\n",
    "                w = 1 / min(i+1, config.window)\n",
    "                ewm_loss = ewm_loss * (1-w) + loss.item() * w\n",
    "                losses.append(loss.item())\n",
    "                \n",
    "                if i % config.eval_step == 0:\n",
    "                    eval_steps.append(step)\n",
    "                    model.eval()\n",
    "                    eval_loss = get_loss(model, dl_test)\n",
    "                    test_losses.append(eval_loss)\n",
    "                    model.train()\n",
    "                update_graph([[losses], [eval_steps, test_losses]], ax, graph_out, names=['loss', 'test loss'])\n",
    "    except KeyboardInterrupt: print(\"Stopping training\")"
   ]
  },
  {
   "cell_type": "code",
   "execution_count": null,
   "metadata": {},
   "outputs": [
    {
     "data": {
      "image/png": "[encoded data removed]",
      "text/plain": [
       "<Figure size 900x400 with 1 Axes>"
      ]
     },
     "metadata": {},
     "output_type": "display_data"
    },
    {
     "data": {
      "application/vnd.jupyter.widget-view+json": {
       "model_id": "55cbaeb9a4af46e08dd614c685c52ee6",
       "version_major": 2,
       "version_minor": 0
      },
      "text/plain": [
       "  0%|          | 0/5 [00:00<?, ?it/s]"
      ]
     },
     "metadata": {},
     "output_type": "display_data"
    },
    {
     "data": {
      "application/vnd.jupyter.widget-view+json": {
       "model_id": "ed954e12959841259920850958b037d2",
       "version_major": 2,
       "version_minor": 0
      },
      "text/plain": [
       "  0%|          | 0/29 [00:00<?, ?it/s]"
      ]
     },
     "metadata": {},
     "output_type": "display_data"
    },
    {
     "data": {
      "application/vnd.jupyter.widget-view+json": {
       "model_id": "fbc58e29a83849a386adcf2fa0de0120",
       "version_major": 2,
       "version_minor": 0
      },
      "text/plain": [
       "  0%|          | 0/4 [00:00<?, ?it/s]"
      ]
     },
     "metadata": {},
     "output_type": "display_data"
    },
    {
     "data": {
      "application/vnd.jupyter.widget-view+json": {
       "model_id": "8f01e31e99814af0a6b0755a278367b0",
       "version_major": 2,
       "version_minor": 0
      },
      "text/plain": [
       "  0%|          | 0/4 [00:00<?, ?it/s]"
      ]
     },
     "metadata": {},
     "output_type": "display_data"
    },
    {
     "data": {
      "application/vnd.jupyter.widget-view+json": {
       "model_id": "1ef5b2f3d2e94f8e83af9a9cbb97aa1e",
       "version_major": 2,
       "version_minor": 0
      },
      "text/plain": [
       "  0%|          | 0/29 [00:00<?, ?it/s]"
      ]
     },
     "metadata": {},
     "output_type": "display_data"
    },
    {
     "data": {
      "application/vnd.jupyter.widget-view+json": {
       "model_id": "7c1d71dd3c1c41d4b770f27eb4f2c47b",
       "version_major": 2,
       "version_minor": 0
      },
      "text/plain": [
       "  0%|          | 0/4 [00:00<?, ?it/s]"
      ]
     },
     "metadata": {},
     "output_type": "display_data"
    },
    {
     "data": {
      "application/vnd.jupyter.widget-view+json": {
       "model_id": "567bbb53b84540c88248ce6c61e2d5dc",
       "version_major": 2,
       "version_minor": 0
      },
      "text/plain": [
       "  0%|          | 0/4 [00:00<?, ?it/s]"
      ]
     },
     "metadata": {},
     "output_type": "display_data"
    },
    {
     "data": {
      "application/vnd.jupyter.widget-view+json": {
       "model_id": "5f6cc2c1fff94565941622b29a5dda3e",
       "version_major": 2,
       "version_minor": 0
      },
      "text/plain": [
       "  0%|          | 0/29 [00:00<?, ?it/s]"
      ]
     },
     "metadata": {},
     "output_type": "display_data"
    },
    {
     "data": {
      "application/vnd.jupyter.widget-view+json": {
       "model_id": "a668826225e846edb40c1d31a6b707b8",
       "version_major": 2,
       "version_minor": 0
      },
      "text/plain": [
       "  0%|          | 0/4 [00:00<?, ?it/s]"
      ]
     },
     "metadata": {},
     "output_type": "display_data"
    },
    {
     "data": {
      "application/vnd.jupyter.widget-view+json": {
       "model_id": "8f487f02ea8148d8a72024da216c510c",
       "version_major": 2,
       "version_minor": 0
      },
      "text/plain": [
       "  0%|          | 0/4 [00:00<?, ?it/s]"
      ]
     },
     "metadata": {},
     "output_type": "display_data"
    },
    {
     "data": {
      "application/vnd.jupyter.widget-view+json": {
       "model_id": "0e77b462f5a840339797219bb5a11414",
       "version_major": 2,
       "version_minor": 0
      },
      "text/plain": [
       "  0%|          | 0/29 [00:00<?, ?it/s]"
      ]
     },
     "metadata": {},
     "output_type": "display_data"
    },
    {
     "data": {
      "application/vnd.jupyter.widget-view+json": {
       "model_id": "b3a53a858028444ba0d66580a5f017b5",
       "version_major": 2,
       "version_minor": 0
      },
      "text/plain": [
       "  0%|          | 0/4 [00:00<?, ?it/s]"
      ]
     },
     "metadata": {},
     "output_type": "display_data"
    },
    {
     "data": {
      "application/vnd.jupyter.widget-view+json": {
       "model_id": "4760c0c36d184bd08935ff5c0530b480",
       "version_major": 2,
       "version_minor": 0
      },
      "text/plain": [
       "  0%|          | 0/4 [00:00<?, ?it/s]"
      ]
     },
     "metadata": {},
     "output_type": "display_data"
    },
    {
     "data": {
      "application/vnd.jupyter.widget-view+json": {
       "model_id": "f3906a855fae4c66976d7ee70fa26261",
       "version_major": 2,
       "version_minor": 0
      },
      "text/plain": [
       "  0%|          | 0/29 [00:00<?, ?it/s]"
      ]
     },
     "metadata": {},
     "output_type": "display_data"
    },
    {
     "data": {
      "application/vnd.jupyter.widget-view+json": {
       "model_id": "4cd674cbf11d41ca8c8465f27efff260",
       "version_major": 2,
       "version_minor": 0
      },
      "text/plain": [
       "  0%|          | 0/4 [00:00<?, ?it/s]"
      ]
     },
     "metadata": {},
     "output_type": "display_data"
    },
    {
     "data": {
      "application/vnd.jupyter.widget-view+json": {
       "model_id": "c0f24ee64bfb40209fbd945dae457dfe",
       "version_major": 2,
       "version_minor": 0
      },
      "text/plain": [
       "  0%|          | 0/4 [00:00<?, ?it/s]"
      ]
     },
     "metadata": {},
     "output_type": "display_data"
    },
    {
     "data": {
      "image/png": "[encoded data removed]",
      "text/plain": [
       "<Figure size 900x400 with 1 Axes>"
      ]
     },
     "metadata": {},
     "output_type": "display_data"
    }
   ],
   "source": [
    "train(model, optimizer, dl_train, dl_test, config)"
   ]
  },
  {
   "cell_type": "code",
   "execution_count": null,
   "metadata": {},
   "outputs": [],
   "source": [
    "model.save_pretrained('./tuned_model_500_wce')"
   ]
  },
  {
   "cell_type": "markdown",
   "metadata": {},
   "source": [
    "# Eval model"
   ]
  },
  {
   "cell_type": "code",
   "execution_count": null,
   "metadata": {},
   "outputs": [
    {
     "data": {
      "application/vnd.jupyter.widget-view+json": {
       "model_id": "0266831ab3894ed39436f6611c0ee447",
       "version_major": 2,
       "version_minor": 0
      },
      "text/plain": [
       "  0%|          | 0/4 [00:00<?, ?it/s]"
      ]
     },
     "metadata": {},
     "output_type": "display_data"
    },
    {
     "data": {
      "text/plain": [
       "{'accuracy': 0.7058823704719543,\n",
       " 'precision': 0.7058823704719543,\n",
       " 'recall': 0.7058823704719543,\n",
       " 'f1': 0.7058823704719543}"
      ]
     },
     "execution_count": null,
     "metadata": {},
     "output_type": "execute_result"
    }
   ],
   "source": [
    "do_eval(model, dl_test, agg=True)"
   ]
  },
  {
   "cell_type": "code",
   "execution_count": null,
   "metadata": {},
   "outputs": [
    {
     "data": {
      "text/plain": [
       "ModernBertForSequenceClassification(\n",
       "  (model): ModernBertModel(\n",
       "    (embeddings): ModernBertEmbeddings(\n",
       "      (tok_embeddings): Embedding(50368, 768, padding_idx=50283)\n",
       "      (norm): LayerNorm((768,), eps=1e-05, elementwise_affine=True)\n",
       "      (drop): Dropout(p=0.0, inplace=False)\n",
       "    )\n",
       "    (layers): ModuleList(\n",
       "      (0): ModernBertEncoderLayer(\n",
       "        (attn_norm): Identity()\n",
       "        (attn): ModernBertAttention(\n",
       "          (Wqkv): Linear(in_features=768, out_features=2304, bias=False)\n",
       "          (rotary_emb): ModernBertRotaryEmbedding()\n",
       "          (Wo): Linear(in_features=768, out_features=768, bias=False)\n",
       "          (out_drop): Identity()\n",
       "        )\n",
       "        (mlp_norm): LayerNorm((768,), eps=1e-05, elementwise_affine=True)\n",
       "        (mlp): ModernBertMLP(\n",
       "          (Wi): Linear(in_features=768, out_features=2304, bias=False)\n",
       "          (act): GELUActivation()\n",
       "          (drop): Dropout(p=0.0, inplace=False)\n",
       "          (Wo): Linear(in_features=1152, out_features=768, bias=False)\n",
       "        )\n",
       "      )\n",
       "      (1-21): 21 x ModernBertEncoderLayer(\n",
       "        (attn_norm): LayerNorm((768,), eps=1e-05, elementwise_affine=True)\n",
       "        (attn): ModernBertAttention(\n",
       "          (Wqkv): Linear(in_features=768, out_features=2304, bias=False)\n",
       "          (rotary_emb): ModernBertRotaryEmbedding()\n",
       "          (Wo): Linear(in_features=768, out_features=768, bias=False)\n",
       "          (out_drop): Identity()\n",
       "        )\n",
       "        (mlp_norm): LayerNorm((768,), eps=1e-05, elementwise_affine=True)\n",
       "        (mlp): ModernBertMLP(\n",
       "          (Wi): Linear(in_features=768, out_features=2304, bias=False)\n",
       "          (act): GELUActivation()\n",
       "          (drop): Dropout(p=0.0, inplace=False)\n",
       "          (Wo): Linear(in_features=1152, out_features=768, bias=False)\n",
       "        )\n",
       "      )\n",
       "    )\n",
       "    (final_norm): LayerNorm((768,), eps=1e-05, elementwise_affine=True)\n",
       "  )\n",
       "  (head): ModernBertPredictionHead(\n",
       "    (dense): Linear(in_features=768, out_features=768, bias=False)\n",
       "    (act): GELUActivation()\n",
       "    (norm): LayerNorm((768,), eps=1e-05, elementwise_affine=True)\n",
       "  )\n",
       "  (drop): Dropout(p=0.0, inplace=False)\n",
       "  (classifier): Linear(in_features=768, out_features=3, bias=True)\n",
       ")"
      ]
     },
     "execution_count": null,
     "metadata": {},
     "output_type": "execute_result"
    }
   ],
   "source": [
    "model.to('cuda')"
   ]
  },
  {
   "cell_type": "code",
   "execution_count": null,
   "metadata": {},
   "outputs": [
    {
     "data": {
      "application/vnd.jupyter.widget-view+json": {
       "model_id": "64ecf27ed41041c88d467323cf9f28f6",
       "version_major": 2,
       "version_minor": 0
      },
      "text/plain": [
       "  0%|          | 0/1 [00:00<?, ?it/s]"
      ]
     },
     "metadata": {},
     "output_type": "display_data"
    },
    {
     "data": {
      "text/plain": [
       "{'accuracy': 0.5686274766921997,\n",
       " 'precision': 0.5373897552490234,\n",
       " 'recall': 0.7066666483879089,\n",
       " 'f1': 0.4532356560230255}"
      ]
     },
     "execution_count": null,
     "metadata": {},
     "output_type": "execute_result"
    }
   ],
   "source": [
    "do_eval(model.to('cuda'), dl_test)"
   ]
  },
  {
   "cell_type": "code",
   "execution_count": null,
   "metadata": {},
   "outputs": [
    {
     "data": {
      "text/plain": [
       "<torch.utils.data.dataloader.DataLoader>"
      ]
     },
     "execution_count": null,
     "metadata": {},
     "output_type": "execute_result"
    }
   ],
   "source": []
  }
 ],
 "metadata": {
  "kernelspec": {
   "display_name": "python3",
   "language": "python",
   "name": "python3"
  }
 },
 "nbformat": 4,
 "nbformat_minor": 2
}
