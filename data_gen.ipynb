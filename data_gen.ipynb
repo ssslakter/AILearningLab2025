{
 "cells": [
  {
   "cell_type": "code",
   "execution_count": null,
   "metadata": {},
   "outputs": [],
   "source": [
    "import pandas as pd\n",
    "import numpy as np\n",
    "from openai import OpenAI, AsyncOpenAI"
   ]
  },
  {
   "cell_type": "code",
   "execution_count": null,
   "metadata": {},
   "outputs": [],
   "source": [
    "aclient = AsyncOpenAI(\n",
    "    api_key=\"sk-or-vv-726f75d0b47b51237e227344f747fe3ca4df5ed0622275827505ca1ce8e00e00\", # ваш ключ в VseGPT после регистрации\n",
    "    base_url=\"https://api.vsegpt.ru/v1\",\n",
    ")"
   ]
  },
  {
   "cell_type": "code",
   "execution_count": null,
   "metadata": {},
   "outputs": [],
   "source": [
    "topics = [\n",
    "    # Рабочие темы\n",
    "    \"Вопросы по документации\",\n",
    "    \"Ошибки и баги в продуктах\",\n",
    "\n",
    "    # Технические вопросы\n",
    "    \"Обновления ПО\",\n",
    "    \"Проблемы с серверами и инфрой\",\n",
    "    \"Настройка инструментов и сервисов\",\n",
    "    \"Вопросы по коду и разработке\",\n",
    "\n",
    "    \"Обучение и повышение квалификации\",\n",
    "    \"Вопросы оплаты труда\",\n",
    "\n",
    "    # Командные коммуникации и неформальное общение\n",
    "    \"Поздравления с днями рождения и праздниками\",\n",
    "    \"Досуг и хобби сотрудников\",\n",
    "\n",
    "    # Клиенты и партнеры\n",
    "    \"Запросы и обращения клиентов\",\n",
    "    \"Обсуждение сложных клиентов\",\n",
    "    \"Подготовка к встречам и презентациям\",\n",
    "\n",
    "    # Any random stuff\n",
    "    \"Блог\",\n",
    "    \"Любой Форум\"\n",
    "] + [\"Любой\"]*5\n",
    "\n",
    "\n",
    "prompt = \"\"\"\\\n",
    "Ты — помощник, который генерирует сообщения для корпоративных чатов, блогов, новостей. \\\n",
    "Тебе нужно сгенерировать текст, соответствующее указанному настроению (sentiment) и заданного контекста.\n",
    "Ниже могут быть представлены примеры случайных сообщений из чатов, гневных комментариев или сообщений в блог постах.\n",
    "Текст должен быть похожим по **вайбам** на примеры, \\\n",
    "то есть иногда быть не формальным, быть в определенной раскладке, или содержать, знаки препинания или различные эмоции типа <3, если такие есть в примерах,\\\n",
    "но обязательно должен соотвествовать указанному sentiment. Также сообщения могут сильно отличаться по длине, ты должен тоже подстраиваться.\n",
    "Не пиши слишком обобщенно, придумывай имена, места, даты, цифры или любую другую информацию, которая может появиться в сообщениях, для большего разнообразия.\n",
    "Ниже есть несколько примеров такого вида:\n",
    "- Sentiment: Настроение сообщения (например, нейтральное, позитивное, негативное).\n",
    "- Text: Сам текст сообщения, комментария или блога.\n",
    "\n",
    "### Примеры:\n",
    "{examples}\n",
    "\n",
    "Теперь твоя задача сгенерировать {n} новых сообщений с \"{target_label}\" sentiment. Убедись, что стиль и контекст совпадают с примерами.\n",
    "\n",
    "Ответ должен быть в формате:\n",
    "- <text 1>\n",
    "- <text 2>\n",
    "- ...\n",
    "\"\"\""
   ]
  },
  {
   "cell_type": "code",
   "execution_count": null,
   "metadata": {},
   "outputs": [],
   "source": [
    "df = pd.read_excel('./a_with_labels.xlsx')\n",
    "df = df[['Text', 'my-label']].rename(columns={'Text': 'text', 'my-label': 'label'})"
   ]
  },
  {
   "cell_type": "code",
   "execution_count": null,
   "metadata": {},
   "outputs": [],
   "source": [
    "from cosette import *"
   ]
  },
  {
   "cell_type": "code",
   "execution_count": null,
   "metadata": {},
   "outputs": [],
   "source": [
    "acli = Client('openai/gpt-4o-mini', aclient)"
   ]
  },
  {
   "cell_type": "code",
   "execution_count": null,
   "metadata": {},
   "outputs": [],
   "source": [
    "import re\n",
    "\n",
    "\n",
    "def parse_response(response):\n",
    "    pattern = r\"^- (.+)$\"\n",
    "    matches = re.findall(pattern, contents(response), re.MULTILINE)\n",
    "    return matches\n",
    "\n",
    "\n",
    "def format_prompt(prompt, rows, label: str, n_texts: int = 5):\n",
    "    examples = \"\\n\".join(\n",
    "        [f\"- Sentiment: {row['label']}\\n- Text: {row['text']}\" for _, row in rows.iterrows()]\n",
    "    )\n",
    "    pr = prompt.format(examples=examples, target_label=label, n=n_texts)\n",
    "    return pr\n",
    "\n",
    "\n",
    "def save_data(generated, fname='generated.xlsx'):\n",
    "    flattened_data = []\n",
    "    for sentiment, texts, _ in generated:\n",
    "        for text in texts:\n",
    "            flattened_data.append({\"label\": sentiment, \"text\": text})\n",
    "    pd.DataFrame(flattened_data).to_excel(fname, index=None)"
   ]
  },
  {
   "cell_type": "code",
   "execution_count": null,
   "metadata": {},
   "outputs": [
    {
     "data": {
      "application/vnd.jupyter.widget-view+json": {
       "model_id": "3b2c17cb55a445479d3a1168ad77a83f",
       "version_major": 2,
       "version_minor": 0
      },
      "text/plain": [
       "  0%|          | 0/10000 [00:00<?, ?it/s]"
      ]
     },
     "metadata": {},
     "output_type": "display_data"
    },
    {
     "name": "stdout",
     "output_type": "stream",
     "text": [
      "[Errno 13] Permission denied: 'generated.xlsx'\n",
      "[Errno 13] Permission denied: 'generated.xlsx'\n"
     ]
    }
   ],
   "source": [
    "import asyncio\n",
    "from tqdm.auto import trange\n",
    "import time\n",
    "\n",
    "label_counts = df['label'].value_counts()\n",
    "weights = 1.0 / label_counts[df['label']].values\n",
    "weights /= weights.sum()\n",
    "n_texts = 5\n",
    "n_examples = 5\n",
    "\n",
    "total = 10_000\n",
    "fname = 'generated.xlsx'\n",
    "sampled_counts = np.zeros(len(df), dtype=np.int64)\n",
    "\n",
    "\n",
    "generated = []\n",
    "prompted = []\n",
    "for i in trange(total):\n",
    "    try:\n",
    "        sampled_df = df.sample(n=n_examples, weights=weights)\n",
    "        label = sampled_df['label'].sample(1).iloc[0]\n",
    "        pr = format_prompt(prompt, sampled_df, label, n_texts)\n",
    "\n",
    "        start_time = time.time()\n",
    "\n",
    "        res = parse_response(await acli([mk_msg(pr)]))\n",
    "        # keep RPS=1\n",
    "        elapsed_time = time.time() - start_time\n",
    "        if elapsed_time < 1: await asyncio.sleep(1 - elapsed_time)\n",
    "\n",
    "        generated.append((label, res, pr))\n",
    "        prompted.append(sampled_df)\n",
    "        if i and i % 30 == 1: save_data(generated, fname)\n",
    "    except Exception as e: print(e)\n",
    "    except (KeyboardInterrupt, asyncio.CancelledError): \n",
    "        save_data(generated, fname)\n",
    "        break"
   ]
  },
  {
   "cell_type": "markdown",
   "metadata": {},
   "source": [
    "## Paraphrase"
   ]
  },
  {
   "cell_type": "code",
   "execution_count": null,
   "metadata": {},
   "outputs": [],
   "source": [
    "prompt = \"\"\"\\\n",
    "Ты — помощник, который генерирует или перефразирует похожие сообщения для корпоративных чатов, блогов, новостей.\n",
    "\n",
    "Теперь твоя задача сгенерировать {n} новых сообщений, которые похожи на текущее.\n",
    "Похожее - значит, что у сгенерированного текста сохраняется настроение оригинального, сохраняется средняя длина, сохранятся посыл текста.\n",
    "Все остальное может меняться, так как нужно получить большую вариативность.\n",
    "Исходный текст:\n",
    "{text}\n",
    "\n",
    "Ответ должен быть в формате:\n",
    "- <text 1>\n",
    "- <text 2>\n",
    "- ...\n",
    "\"\"\""
   ]
  },
  {
   "cell_type": "code",
   "execution_count": null,
   "metadata": {},
   "outputs": [
    {
     "data": {
      "application/vnd.jupyter.widget-view+json": {
       "model_id": "fb94ba103c054f2997a993078f5e0505",
       "version_major": 2,
       "version_minor": 0
      },
      "text/plain": [
       "  0%|          | 0/508 [00:00<?, ?it/s]"
      ]
     },
     "metadata": {},
     "output_type": "display_data"
    }
   ],
   "source": [
    "import asyncio\n",
    "from tqdm.auto import tqdm\n",
    "import time\n",
    "\n",
    "n_texts = 5\n",
    "\n",
    "fname = 'paraphrased.xlsx'\n",
    "\n",
    "generated = []\n",
    "for i, row in tqdm(df.iterrows(), total=len(df)):\n",
    "    try:\n",
    "        pr = prompt.format(n=n_texts, text=row['text'])\n",
    "        label = row['label']\n",
    "        start_time = time.time()\n",
    "        res = parse_response(await acli([mk_msg(pr)]))\n",
    "        # keep RPS=1\n",
    "        elapsed_time = time.time() - start_time\n",
    "        if elapsed_time < 1: await asyncio.sleep(1 - elapsed_time)\n",
    "        generated.append((label, res, pr))\n",
    "        if i and i % 30 == 1: save_data(generated, fname)\n",
    "    except Exception as e: print(e)\n",
    "    except (KeyboardInterrupt, asyncio.CancelledError): \n",
    "        save_data(generated, fname)\n",
    "        break"
   ]
  }
 ],
 "metadata": {
  "kernelspec": {
   "display_name": "python3",
   "language": "python",
   "name": "python3"
  }
 },
 "nbformat": 4,
 "nbformat_minor": 2
}
